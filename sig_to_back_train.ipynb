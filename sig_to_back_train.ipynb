{
 "cells": [
  {
   "cell_type": "code",
   "execution_count": 3,
   "metadata": {},
   "outputs": [],
   "source": [
    "from pprint import pprint\n",
    "import math\n",
    "import numpy as np\n",
    "import h5py\n",
    "import matplotlib.pyplot as plt\n",
    "import scipy\n",
    "from scipy import ndimage\n",
    "import tensorflow as tf\n",
    "import keras\n",
    "from tensorflow.python.framework import ops\n",
    "#from cnn_utils import *\n",
    "import os\n",
    "os.environ['CUDA_VISIBLE_DEVICES']='-1'\n",
    "import deepdish.io as io\n",
    "from keras.models import Sequential, Model\n",
    "from keras.layers import Input, Dense, Dropout, LeakyReLU\n",
    "from keras.callbacks import ModelCheckpoint\n",
    "from keras.wrappers.scikit_learn import KerasRegressor\n",
    "#from keras.utils import multi_gpu_model\n",
    "from sklearn.model_selection import cross_val_score, cross_val_predict, train_test_split\n",
    "from sklearn.model_selection import KFold\n",
    "from sklearn.preprocessing import StandardScaler, MinMaxScaler\n",
    "from sklearn.pipeline import Pipeline\n",
    "from sklearn.metrics import r2_score, mean_squared_error, mean_absolute_error\n",
    "from sklearn.metrics import roc_curve, auc\n",
    "from sklearn import metrics"
   ]
  },
  {
   "cell_type": "code",
   "execution_count": 4,
   "metadata": {},
   "outputs": [
    {
     "data": {
      "text/plain": [
       "['y', 'X', 'bkg_llh']"
      ]
     },
     "execution_count": 4,
     "metadata": {},
     "output_type": "execute_result"
    }
   ],
   "source": [
    "#Loading data\n",
    "data_sig_A = io.load(os.path.join('MEM-A-0500_unscaled_signal.h5'))\n",
    "data_sig_B = io.load(os.path.join('MEM-B-0500_unscaled_signal.h5'))\n",
    "data_sig_C = io.load(os.path.join('MEM-C-0500_unscaled_signal.h5'))\n",
    "data_back_A = io.load(os.path.join('MEM-A-0500_unscaled_background.h5'))\n",
    "data_back_B = io.load(os.path.join('MEM-B-0500_unscaled_background.h5'))\n",
    "data_back_B.keys()"
   ]
  },
  {
   "cell_type": "code",
   "execution_count": 3,
   "metadata": {},
   "outputs": [
    {
     "name": "stdout",
     "output_type": "stream",
     "text": [
      "(3028985,)\n",
      "(151449,)\n"
     ]
    }
   ],
   "source": [
    "#Assigning data\n",
    "X_Big_train = data_sig_A['X']\n",
    "target_BigSig_train = data_sig_A['signal_llh']\n",
    "y_BigSig_train = data_sig_A['y']\n",
    "\n",
    "X_Big_test = data_sig_B['X']\n",
    "target_BigSig_test = data_sig_B['signal_llh']\n",
    "y_BigSig_test = data_sig_B['y']\n",
    "\n",
    "X_Big_valid = data_sig_C['X']\n",
    "target_BigSig_valid = data_sig_C['signal_llh']\n",
    "y_BigSig_valid = data_sig_C['y']\n",
    "\n",
    "target_BigBack_train = data_back_A['bkg_llh']\n",
    "y_BigBack_train = data_back_A['y']\n",
    "target_BigBack_test = data_back_B['bkg_llh']\n",
    "y_BigBack_test = data_back_B['y']\n",
    "\n",
    "sig_to_backRatio_train = target_BigSig_train/target_BigBack_train\n",
    "sig_to_backRatio_test = target_BigSig_test/target_BigBack_test\n",
    "\n",
    "np.shape(y_BigSig_valid)\n",
    "#print np.shape(target_BigSig_test)\n",
    "#print np.shape(target_BigBack_test)\n",
    "print np.shape(sig_to_backRatio_train)\n",
    "print np.shape(sig_to_backRatio_test)"
   ]
  },
  {
   "cell_type": "code",
   "execution_count": 20,
   "metadata": {},
   "outputs": [
    {
     "data": {
      "image/png": "[encoded data removed]",
      "text/plain": [
       "<Figure size 432x288 with 1 Axes>"
      ]
     },
     "metadata": {},
     "output_type": "display_data"
    }
   ],
   "source": [
    "#_=plt.hist(target_BigSig_test[np.where(y_BigSig_test==1)],bins=100, histtype='step', label=' signal llh')\n",
    "                           \n",
    "#_=plt.hist(target_BigSig_test[np.where(y_BigSig_test==0)],bins=100, histtype='step', color= 'red')\n",
    "\n",
    "_=plt.hist(sig_to_backRatio_train[np.where(y_BigSig_train==1)],bins=100, histtype='step')\n",
    "                           \n",
    "_=plt.hist(sig_to_backRatio_train[np.where(y_BigSig_train==0)],bins=100, histtype='step', color= 'red')\n",
    "\n",
    "#_=plt.hist(sig_to_backRatio_train,bins=100, histtype='step')\n",
    "\n",
    "#plt.legend(['training', 'validation'], loc='upper right')\n",
    "#_=plt.hist(target_BigSig_test,bins=100)\n",
    "#_=plt.hist(target_BigBack_test,bins=100)"
   ]
  },
  {
   "cell_type": "code",
   "execution_count": 17,
   "metadata": {
    "collapsed": true
   },
   "outputs": [],
   "source": [
    "#Defining Sequential Model\n",
    "def sequential_model():\n",
    "    seqModel = Sequential()\n",
    "    seqModel.add(Dense(32, input_dim=32, kernel_initializer='glorot_normal', activation='relu'))\n",
    "    seqModel.add(Dense(12, kernel_initializer='glorot_normal', activation='relu'))\n",
    "    seqModel.add(Dense(1, kernel_initializer='glorot_normal'))\n",
    "    seqModel.compile(loss='mean_squared_error', optimizer='adam')\n",
    "    return seqModel"
   ]
  },
  {
   "cell_type": "code",
   "execution_count": 18,
   "metadata": {},
   "outputs": [
    {
     "name": "stdout",
     "output_type": "stream",
     "text": [
      "Epoch 1/100\n",
      "3028985/3028985 [==============================] - 18s 6us/step - loss: 0.0194\n",
      "Epoch 2/100\n",
      "3028985/3028985 [==============================] - 17s 6us/step - loss: 0.0130\n",
      "Epoch 3/100\n",
      "3028985/3028985 [==============================] - 17s 6us/step - loss: 0.0126\n",
      "Epoch 4/100\n",
      "3028985/3028985 [==============================] - 17s 6us/step - loss: 0.0123\n",
      "Epoch 5/100\n",
      "3028985/3028985 [==============================] - 17s 6us/step - loss: 0.0121\n",
      "Epoch 6/100\n",
      "3028985/3028985 [==============================] - 17s 6us/step - loss: 0.0120\n",
      "Epoch 7/100\n",
      "3028985/3028985 [==============================] - 17s 6us/step - loss: 0.0119\n",
      "Epoch 8/100\n",
      "3028985/3028985 [==============================] - 17s 6us/step - loss: 0.0118\n",
      "Epoch 9/100\n",
      "3028985/3028985 [==============================] - 17s 6us/step - loss: 0.0117\n",
      "Epoch 10/100\n",
      "3028985/3028985 [==============================] - 17s 6us/step - loss: 0.0116\n",
      "Epoch 11/100\n",
      "3028985/3028985 [==============================] - 17s 6us/step - loss: 0.0116\n",
      "Epoch 12/100\n",
      "3028985/3028985 [==============================] - 17s 6us/step - loss: 0.0115\n",
      "Epoch 13/100\n",
      "3028985/3028985 [==============================] - 18s 6us/step - loss: 0.0114\n",
      "Epoch 14/100\n",
      "3028985/3028985 [==============================] - 17s 6us/step - loss: 0.0114\n",
      "Epoch 15/100\n",
      "3028985/3028985 [==============================] - 17s 6us/step - loss: 0.0113\n",
      "Epoch 16/100\n",
      "3028985/3028985 [==============================] - 17s 6us/step - loss: 0.0113\n",
      "Epoch 17/100\n",
      "3028985/3028985 [==============================] - 17s 6us/step - loss: 0.0113\n",
      "Epoch 18/100\n",
      "3028985/3028985 [==============================] - 17s 6us/step - loss: 0.0112\n",
      "Epoch 19/100\n",
      "3028985/3028985 [==============================] - 17s 6us/step - loss: 0.0112\n",
      "Epoch 20/100\n",
      "3028985/3028985 [==============================] - 17s 6us/step - loss: 0.0112\n",
      "Epoch 21/100\n",
      "3028985/3028985 [==============================] - 17s 6us/step - loss: 0.0112\n",
      "Epoch 22/100\n",
      "3028985/3028985 [==============================] - 17s 6us/step - loss: 0.0112\n",
      "Epoch 23/100\n",
      "3028985/3028985 [==============================] - 17s 6us/step - loss: 0.0112\n",
      "Epoch 24/100\n",
      "3028985/3028985 [==============================] - 17s 6us/step - loss: 0.0112\n",
      "Epoch 25/100\n",
      "3028985/3028985 [==============================] - 17s 6us/step - loss: 0.0112\n",
      "Epoch 26/100\n",
      "3028985/3028985 [==============================] - 17s 6us/step - loss: 0.0112\n",
      "Epoch 27/100\n",
      "3028985/3028985 [==============================] - 17s 6us/step - loss: 0.0112\n",
      "Epoch 28/100\n",
      "3028985/3028985 [==============================] - 17s 6us/step - loss: 0.0112\n",
      "Epoch 29/100\n",
      "3028985/3028985 [==============================] - 17s 6us/step - loss: 0.0112\n",
      "Epoch 30/100\n",
      "3028985/3028985 [==============================] - 18s 6us/step - loss: 0.0111\n",
      "Epoch 31/100\n",
      "3028985/3028985 [==============================] - 17s 6us/step - loss: 0.0111\n",
      "Epoch 32/100\n",
      "3028985/3028985 [==============================] - 17s 6us/step - loss: 0.0111\n",
      "Epoch 33/100\n",
      "3028985/3028985 [==============================] - 17s 6us/step - loss: 0.0111\n",
      "Epoch 34/100\n",
      "3028985/3028985 [==============================] - 17s 6us/step - loss: 0.0111\n",
      "Epoch 35/100\n",
      "3028985/3028985 [==============================] - 18s 6us/step - loss: 0.0111\n",
      "Epoch 36/100\n",
      "3028985/3028985 [==============================] - 17s 6us/step - loss: 0.0111\n",
      "Epoch 37/100\n",
      "3028985/3028985 [==============================] - 17s 6us/step - loss: 0.0111\n",
      "Epoch 38/100\n",
      "3028985/3028985 [==============================] - 17s 6us/step - loss: 0.0111\n",
      "Epoch 39/100\n",
      "3028985/3028985 [==============================] - 17s 6us/step - loss: 0.0111\n",
      "Epoch 40/100\n",
      "3028985/3028985 [==============================] - 17s 6us/step - loss: 0.0111\n",
      "Epoch 41/100\n",
      "3028985/3028985 [==============================] - 17s 6us/step - loss: 0.0111\n",
      "Epoch 42/100\n",
      "3028985/3028985 [==============================] - 18s 6us/step - loss: 0.0111\n",
      "Epoch 43/100\n",
      "3028985/3028985 [==============================] - 17s 6us/step - loss: 0.0111\n",
      "Epoch 44/100\n",
      "3028985/3028985 [==============================] - 18s 6us/step - loss: 0.0111\n",
      "Epoch 45/100\n",
      "3028985/3028985 [==============================] - 17s 6us/step - loss: 0.0111\n",
      "Epoch 46/100\n",
      "3028985/3028985 [==============================] - 18s 6us/step - loss: 0.0110\n",
      "Epoch 47/100\n",
      "3028985/3028985 [==============================] - 17s 6us/step - loss: 0.0110\n",
      "Epoch 48/100\n",
      "3028985/3028985 [==============================] - 17s 6us/step - loss: 0.0110\n",
      "Epoch 49/100\n",
      "3028985/3028985 [==============================] - 17s 6us/step - loss: 0.0110\n",
      "Epoch 50/100\n",
      "3028985/3028985 [==============================] - 17s 6us/step - loss: 0.0110\n",
      "Epoch 51/100\n",
      "3028985/3028985 [==============================] - 17s 6us/step - loss: 0.0110\n",
      "Epoch 52/100\n",
      "3028985/3028985 [==============================] - 17s 6us/step - loss: 0.0110\n",
      "Epoch 53/100\n",
      "3028985/3028985 [==============================] - 18s 6us/step - loss: 0.0110\n",
      "Epoch 54/100\n",
      "3028985/3028985 [==============================] - 17s 6us/step - loss: 0.0110\n",
      "Epoch 55/100\n",
      "3028985/3028985 [==============================] - 17s 6us/step - loss: 0.0110\n",
      "Epoch 56/100\n",
      "3028985/3028985 [==============================] - 18s 6us/step - loss: 0.0110\n",
      "Epoch 57/100\n",
      "3028985/3028985 [==============================] - 18s 6us/step - loss: 0.0110\n",
      "Epoch 58/100\n",
      "3028985/3028985 [==============================] - 18s 6us/step - loss: 0.0110\n",
      "Epoch 59/100\n",
      "3028985/3028985 [==============================] - 18s 6us/step - loss: 0.0110\n",
      "Epoch 60/100\n",
      "3028985/3028985 [==============================] - 18s 6us/step - loss: 0.0110\n",
      "Epoch 61/100\n",
      "3028985/3028985 [==============================] - 17s 6us/step - loss: 0.0110\n",
      "Epoch 62/100\n",
      "3028985/3028985 [==============================] - 17s 6us/step - loss: 0.0110\n",
      "Epoch 63/100\n",
      "3028985/3028985 [==============================] - 17s 6us/step - loss: 0.0110\n",
      "Epoch 64/100\n",
      "3028985/3028985 [==============================] - 17s 6us/step - loss: 0.0110\n",
      "Epoch 65/100\n",
      "3028985/3028985 [==============================] - 17s 6us/step - loss: 0.0110\n",
      "Epoch 66/100\n",
      "3028985/3028985 [==============================] - 17s 6us/step - loss: 0.0110\n",
      "Epoch 67/100\n",
      "3028985/3028985 [==============================] - 17s 6us/step - loss: 0.0110\n",
      "Epoch 68/100\n",
      "3028985/3028985 [==============================] - 18s 6us/step - loss: 0.0110\n",
      "Epoch 69/100\n",
      "3028985/3028985 [==============================] - 17s 6us/step - loss: 0.0110\n",
      "Epoch 70/100\n",
      "3028985/3028985 [==============================] - 17s 6us/step - loss: 0.0110\n",
      "Epoch 71/100\n",
      "3028985/3028985 [==============================] - 18s 6us/step - loss: 0.0110\n",
      "Epoch 72/100\n",
      "3028985/3028985 [==============================] - 18s 6us/step - loss: 0.0110\n",
      "Epoch 73/100\n",
      "3028985/3028985 [==============================] - 17s 6us/step - loss: 0.0110\n",
      "Epoch 74/100\n",
      "3028985/3028985 [==============================] - 17s 6us/step - loss: 0.0110\n",
      "Epoch 75/100\n",
      "3028985/3028985 [==============================] - 18s 6us/step - loss: 0.0110\n",
      "Epoch 76/100\n",
      "3028985/3028985 [==============================] - 18s 6us/step - loss: 0.0110\n",
      "Epoch 77/100\n",
      "3028985/3028985 [==============================] - 18s 6us/step - loss: 0.0110\n",
      "Epoch 78/100\n",
      "3028985/3028985 [==============================] - 18s 6us/step - loss: 0.0110\n",
      "Epoch 79/100\n",
      "3028985/3028985 [==============================] - 18s 6us/step - loss: 0.0110\n",
      "Epoch 80/100\n",
      "3028985/3028985 [==============================] - 17s 6us/step - loss: 0.0110\n",
      "Epoch 81/100\n",
      "3028985/3028985 [==============================] - 17s 6us/step - loss: 0.0110\n",
      "Epoch 82/100\n",
      "3028985/3028985 [==============================] - 18s 6us/step - loss: 0.0110\n",
      "Epoch 83/100\n",
      "3028985/3028985 [==============================] - 17s 6us/step - loss: 0.0110\n",
      "Epoch 84/100\n",
      "3028985/3028985 [==============================] - 17s 6us/step - loss: 0.0110\n",
      "Epoch 85/100\n",
      "3028985/3028985 [==============================] - 17s 6us/step - loss: 0.0110\n",
      "Epoch 86/100\n",
      "3028985/3028985 [==============================] - 18s 6us/step - loss: 0.0110\n",
      "Epoch 87/100\n",
      "3028985/3028985 [==============================] - 17s 6us/step - loss: 0.0110\n",
      "Epoch 88/100\n",
      "3028985/3028985 [==============================] - 17s 6us/step - loss: 0.0110\n",
      "Epoch 89/100\n",
      "3028985/3028985 [==============================] - 17s 6us/step - loss: 0.0110\n",
      "Epoch 90/100\n",
      "3028985/3028985 [==============================] - 17s 6us/step - loss: 0.0110\n",
      "Epoch 91/100\n",
      "3028985/3028985 [==============================] - 17s 6us/step - loss: 0.0110\n",
      "Epoch 92/100\n",
      "3028985/3028985 [==============================] - 17s 6us/step - loss: 0.0110\n",
      "Epoch 93/100\n",
      "3028985/3028985 [==============================] - 17s 6us/step - loss: 0.0110\n",
      "Epoch 94/100\n",
      "3028985/3028985 [==============================] - 17s 6us/step - loss: 0.0110\n",
      "Epoch 95/100\n",
      "3028985/3028985 [==============================] - 17s 6us/step - loss: 0.0110\n",
      "Epoch 96/100\n",
      "3028985/3028985 [==============================] - 18s 6us/step - loss: 0.0110\n",
      "Epoch 97/100\n",
      "3028985/3028985 [==============================] - 17s 6us/step - loss: 0.0110\n",
      "Epoch 98/100\n",
      "3028985/3028985 [==============================] - 17s 6us/step - loss: 0.0110\n",
      "Epoch 99/100\n",
      "3028985/3028985 [==============================] - 18s 6us/step - loss: 0.0110\n",
      "Epoch 100/100\n",
      "3028985/3028985 [==============================] - 17s 6us/step - loss: 0.0110\n",
      "151449/151449 [==============================] - 0s 2us/step\n",
      "Standardized: 1.05 (0.11) MSE\n",
      "(151449,) 1.4851031 0.7643147\n"
     ]
    }
   ],
   "source": [
    "#calling sequential model using standard scaler\n",
    "estimators = []\n",
    "estimators.append(('standardize', StandardScaler()))\n",
    "\n",
    "estimators.append(('mlp', KerasRegressor(build_fn=sequential_model, epochs=100, batch_size=256, verbose=1)))\n",
    "pipeline1 = Pipeline(estimators)\n",
    "train=pipeline1.fit(X_Big_train,sig_to_backRatio_train)\n",
    "seqResult = pipeline1.predict(X_Big_test)\n",
    "print(\"Standardized: %.2f (%.2f) MSE\" % (seqResult.mean(), seqResult.std()))\n",
    "print np.shape(seqResult), np.max(seqResult), np.min(seqResult)"
   ]
  },
  {
   "cell_type": "code",
   "execution_count": 19,
   "metadata": {},
   "outputs": [
    {
     "data": {
      "image/png": "[encoded data removed]",
      "text/plain": [
       "<Figure size 432x288 with 1 Axes>"
      ]
     },
     "metadata": {},
     "output_type": "display_data"
    }
   ],
   "source": [
    "_=plt.hist(sig_to_backRatio_test,bins=100, histtype='step')\n",
    "_=plt.hist(seqResult,bins=100, color= 'red', histtype='step')"
   ]
  },
  {
   "cell_type": "code",
   "execution_count": 30,
   "metadata": {},
   "outputs": [
    {
     "data": {
      "text/plain": [
       "<matplotlib.legend.Legend at 0x7f2a2859f4d0>"
      ]
     },
     "execution_count": 30,
     "metadata": {},
     "output_type": "execute_result"
    },
    {
     "data": {
      "image/png": "[encoded data removed]",
      "text/plain": [
       "<Figure size 1080x2160 with 3 Axes>"
      ]
     },
     "metadata": {},
     "output_type": "display_data"
    }
   ],
   "source": [
    "sti=sig_true_i=np.where(y_BigSig_test==1)[0]\n",
    "bti=bkg_true_i=np.where(y_BigSig_test==0)[0]\n",
    "\n",
    "n_datasets = 1\n",
    "n_plots = 3\n",
    "n_bins = 200\n",
    "f1, axarr1 = plt.subplots(n_plots, n_datasets, sharex=False,\n",
    "                            #gridspec_kw = {'height_ratios': [1,1,1,1]},\n",
    "                            figsize=(15, 30),\n",
    "                            squeeze=False)\n",
    "plot_i1=0\n",
    "plot_title=\"DNN Output- Correct Hypothesis\"\n",
    "\n",
    "min_out1=min(sig_to_backRatio_test.min(),seqResult.min())\n",
    "max_out1=max(sig_to_backRatio_test.max(),seqResult.max())\n",
    "bins_out1 = np.linspace(min_out1,max_out1,n_bins)\n",
    "axarr1[plot_i1,0].set_xlim((min_out1,max_out1))\n",
    "        \n",
    "axarr1[plot_i1,0].hist(sig_to_backRatio_test[sti], color='blue', histtype='step', bins=bins_out1, linestyle='dashed', label='signal target')\n",
    "\n",
    "axarr1[plot_i1,0].hist(sig_to_backRatio_test[bti], color='red', histtype='step', bins=bins_out1, linestyle='dashed', label=' background target')\n",
    "axarr1[plot_i1,0].hist(seqResult[sti], color='blue', histtype='step', bins=bins_out1, linestyle='solid', label=' signal predict') \n",
    "axarr1[plot_i1,0].hist(seqResult[bti], color='red', histtype='step', bins=bins_out1, linestyle='solid', label=' background predict')\n",
    "        \n",
    "axarr1[plot_i1][0].set_title(plot_title)\n",
    "axarr1[plot_i1][0].legend(loc='best', ncol=1)\n",
    "\n"
   ]
  },
  {
   "cell_type": "code",
   "execution_count": 66,
   "metadata": {},
   "outputs": [
    {
     "data": {
      "image/png": "[encoded data removed]",
      "text/plain": [
       "<Figure size 432x288 with 1 Axes>"
      ]
     },
     "metadata": {},
     "output_type": "display_data"
    }
   ],
   "source": [
    "fpr, tpr, thresholds = roc_curve(y_BigSig_test,seqResult)\n",
    "\n",
    "plt.figure()\n",
    "plt.plot(fpr, tpr)\n",
    "plt.xlim([0.0, 1.0])\n",
    "plt.ylim([0.0, 1.05])\n",
    "plt.xlabel('False Positive Rate')\n",
    "plt.ylabel('True Positive Rate')\n",
    "plt.title('Receiver operating characteristic')\n",
    "plt.show()"
   ]
  },
  {
   "cell_type": "code",
   "execution_count": 63,
   "metadata": {},
   "outputs": [
    {
     "data": {
      "text/plain": [
       "array([1, 1, 1, ..., 1, 1, 1])"
      ]
     },
     "execution_count": 63,
     "metadata": {},
     "output_type": "execute_result"
    }
   ],
   "source": [
    "y_BigSig_test"
   ]
  },
  {
   "cell_type": "code",
   "execution_count": 64,
   "metadata": {},
   "outputs": [
    {
     "data": {
      "text/plain": [
       "array([0.96143323, 1.0590225 , 0.8678651 , ..., 0.9105636 , 0.93391466,\n",
       "       0.9763154 ], dtype=float32)"
      ]
     },
     "execution_count": 64,
     "metadata": {},
     "output_type": "execute_result"
    }
   ],
   "source": [
    "seqResult"
   ]
  },
  {
   "cell_type": "code",
   "execution_count": null,
   "metadata": {
    "collapsed": true
   },
   "outputs": [],
   "source": []
  }
 ],
 "metadata": {
  "celltoolbar": "Slideshow",
  "kernelspec": {
   "display_name": "env2",
   "language": "python",
   "name": "env2"
  },
  "language_info": {
   "codemirror_mode": {
    "name": "ipython",
    "version": 2
   },
   "file_extension": ".py",
   "mimetype": "text/x-python",
   "name": "python",
   "nbconvert_exporter": "python",
   "pygments_lexer": "ipython2",
   "version": "2.7.12"
  }
 },
 "nbformat": 4,
 "nbformat_minor": 2
}
