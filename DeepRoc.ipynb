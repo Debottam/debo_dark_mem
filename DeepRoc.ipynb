{
 "cells": [
  {
   "cell_type": "code",
   "execution_count": 1,
   "metadata": {},
   "outputs": [
    {
     "name": "stderr",
     "output_type": "stream",
     "text": [
      "/home/debo/env2/local/lib/python2.7/site-packages/h5py/__init__.py:36: RuntimeWarning: numpy.dtype size changed, may indicate binary incompatibility. Expected 96, got 88\n",
      "  from ._conv import register_converters as _register_converters\n",
      "/home/debo/env2/local/lib/python2.7/site-packages/h5py/__init__.py:45: RuntimeWarning: numpy.dtype size changed, may indicate binary incompatibility. Expected 96, got 88\n",
      "  from . import h5a, h5d, h5ds, h5f, h5fd, h5g, h5r, h5s, h5t, h5p, h5z\n",
      "/home/debo/env2/local/lib/python2.7/site-packages/h5py/_hl/group.py:22: RuntimeWarning: numpy.dtype size changed, may indicate binary incompatibility. Expected 96, got 88\n",
      "  from .. import h5g, h5i, h5o, h5r, h5t, h5l, h5p\n",
      "/home/debo/env2/local/lib/python2.7/site-packages/scipy/linalg/basic.py:17: RuntimeWarning: numpy.dtype size changed, may indicate binary incompatibility. Expected 96, got 88\n",
      "  from ._solve_toeplitz import levinson\n",
      "/home/debo/env2/local/lib/python2.7/site-packages/scipy/linalg/__init__.py:207: RuntimeWarning: numpy.dtype size changed, may indicate binary incompatibility. Expected 96, got 88\n",
      "  from ._decomp_update import *\n",
      "/home/debo/env2/local/lib/python2.7/site-packages/scipy/special/__init__.py:640: RuntimeWarning: numpy.dtype size changed, may indicate binary incompatibility. Expected 96, got 88\n",
      "  from ._ufuncs import *\n",
      "/home/debo/env2/local/lib/python2.7/site-packages/scipy/special/_ellip_harm.py:7: RuntimeWarning: numpy.dtype size changed, may indicate binary incompatibility. Expected 96, got 88\n",
      "  from ._ellip_harm_2 import _ellipsoid, _ellipsoid_norm\n",
      "/home/debo/env2/local/lib/python2.7/site-packages/scipy/interpolate/_bsplines.py:10: RuntimeWarning: numpy.dtype size changed, may indicate binary incompatibility. Expected 96, got 88\n",
      "  from . import _bspl\n",
      "/home/debo/env2/local/lib/python2.7/site-packages/scipy/sparse/lil.py:19: RuntimeWarning: numpy.dtype size changed, may indicate binary incompatibility. Expected 96, got 88\n",
      "  from . import _csparsetools\n",
      "/home/debo/env2/local/lib/python2.7/site-packages/scipy/sparse/csgraph/__init__.py:165: RuntimeWarning: numpy.dtype size changed, may indicate binary incompatibility. Expected 96, got 88\n",
      "  from ._shortest_path import shortest_path, floyd_warshall, dijkstra,\\\n",
      "/home/debo/env2/local/lib/python2.7/site-packages/scipy/sparse/csgraph/_validation.py:5: RuntimeWarning: numpy.dtype size changed, may indicate binary incompatibility. Expected 96, got 88\n",
      "  from ._tools import csgraph_to_dense, csgraph_from_dense,\\\n",
      "/home/debo/env2/local/lib/python2.7/site-packages/scipy/sparse/csgraph/__init__.py:167: RuntimeWarning: numpy.dtype size changed, may indicate binary incompatibility. Expected 96, got 88\n",
      "  from ._traversal import breadth_first_order, depth_first_order, \\\n",
      "/home/debo/env2/local/lib/python2.7/site-packages/scipy/sparse/csgraph/__init__.py:169: RuntimeWarning: numpy.dtype size changed, may indicate binary incompatibility. Expected 96, got 88\n",
      "  from ._min_spanning_tree import minimum_spanning_tree\n",
      "/home/debo/env2/local/lib/python2.7/site-packages/scipy/sparse/csgraph/__init__.py:170: RuntimeWarning: numpy.dtype size changed, may indicate binary incompatibility. Expected 96, got 88\n",
      "  from ._reordering import reverse_cuthill_mckee, maximum_bipartite_matching, \\\n",
      "/home/debo/env2/local/lib/python2.7/site-packages/scipy/spatial/__init__.py:95: RuntimeWarning: numpy.dtype size changed, may indicate binary incompatibility. Expected 96, got 88\n",
      "  from .ckdtree import *\n",
      "/home/debo/env2/local/lib/python2.7/site-packages/scipy/spatial/__init__.py:96: RuntimeWarning: numpy.dtype size changed, may indicate binary incompatibility. Expected 96, got 88\n",
      "  from .qhull import *\n",
      "/home/debo/env2/local/lib/python2.7/site-packages/scipy/spatial/_spherical_voronoi.py:18: RuntimeWarning: numpy.dtype size changed, may indicate binary incompatibility. Expected 96, got 88\n",
      "  from . import _voronoi\n",
      "/home/debo/env2/local/lib/python2.7/site-packages/scipy/spatial/distance.py:122: RuntimeWarning: numpy.dtype size changed, may indicate binary incompatibility. Expected 96, got 88\n",
      "  from . import _hausdorff\n",
      "/home/debo/env2/local/lib/python2.7/site-packages/scipy/ndimage/measurements.py:36: RuntimeWarning: numpy.dtype size changed, may indicate binary incompatibility. Expected 96, got 88\n",
      "  from . import _ni_label\n",
      "Using TensorFlow backend.\n",
      "/home/debo/env2/local/lib/python2.7/site-packages/tables/__init__.py:93: RuntimeWarning: numpy.dtype size changed, may indicate binary incompatibility. Expected 96, got 88\n",
      "  from .utilsextension import (\n",
      "/home/debo/env2/local/lib/python2.7/site-packages/tables/file.py:35: RuntimeWarning: numpy.dtype size changed, may indicate binary incompatibility. Expected 96, got 88\n",
      "  from . import hdf5extension\n",
      "/home/debo/env2/local/lib/python2.7/site-packages/tables/link.py:33: RuntimeWarning: numpy.dtype size changed, may indicate binary incompatibility. Expected 96, got 88\n",
      "  from . import linkextension\n",
      "/home/debo/env2/local/lib/python2.7/site-packages/tables/table.py:28: RuntimeWarning: numpy.dtype size changed, may indicate binary incompatibility. Expected 96, got 88\n",
      "  from . import tableextension\n",
      "/home/debo/env2/local/lib/python2.7/site-packages/tables/index.py:33: RuntimeWarning: numpy.dtype size changed, may indicate binary incompatibility. Expected 96, got 88\n",
      "  from . import indexesextension\n",
      "/home/debo/env2/local/lib/python2.7/site-packages/sklearn/utils/__init__.py:9: RuntimeWarning: numpy.dtype size changed, may indicate binary incompatibility. Expected 96, got 88\n",
      "  from .murmurhash import murmurhash3_32\n",
      "/home/debo/env2/local/lib/python2.7/site-packages/scipy/optimize/_trlib/__init__.py:1: RuntimeWarning: numpy.dtype size changed, may indicate binary incompatibility. Expected 96, got 88\n",
      "  from ._trlib import TRLIBQuadraticSubproblem\n",
      "/home/debo/env2/local/lib/python2.7/site-packages/scipy/optimize/_numdiff.py:10: RuntimeWarning: numpy.dtype size changed, may indicate binary incompatibility. Expected 96, got 88\n",
      "  from ._group_columns import group_dense, group_sparse\n",
      "/home/debo/env2/local/lib/python2.7/site-packages/scipy/stats/_continuous_distns.py:18: RuntimeWarning: numpy.dtype size changed, may indicate binary incompatibility. Expected 96, got 88\n",
      "  from . import _stats\n",
      "/home/debo/env2/local/lib/python2.7/site-packages/sklearn/utils/extmath.py:24: RuntimeWarning: numpy.dtype size changed, may indicate binary incompatibility. Expected 96, got 88\n",
      "  from ._logistic_sigmoid import _log_logistic_sigmoid\n",
      "/home/debo/env2/local/lib/python2.7/site-packages/sklearn/utils/extmath.py:26: RuntimeWarning: numpy.dtype size changed, may indicate binary incompatibility. Expected 96, got 88\n",
      "  from .sparsefuncs_fast import csr_row_norms\n",
      "/home/debo/env2/local/lib/python2.7/site-packages/sklearn/metrics/cluster/supervised.py:23: RuntimeWarning: numpy.dtype size changed, may indicate binary incompatibility. Expected 96, got 88\n",
      "  from .expected_mutual_info_fast import expected_mutual_information\n",
      "/home/debo/env2/local/lib/python2.7/site-packages/sklearn/metrics/pairwise.py:30: RuntimeWarning: numpy.dtype size changed, may indicate binary incompatibility. Expected 96, got 88\n",
      "  from .pairwise_fast import _chi2_kernel_fast, _sparse_manhattan\n",
      "/home/debo/env2/local/lib/python2.7/site-packages/sklearn/utils/random.py:10: RuntimeWarning: numpy.dtype size changed, may indicate binary incompatibility. Expected 96, got 88\n",
      "  from ._random import sample_without_replacement\n"
     ]
    }
   ],
   "source": [
    "from pprint import pprint\n",
    "import math\n",
    "import numpy as np\n",
    "import h5py\n",
    "import matplotlib.pyplot as plt\n",
    "import scipy\n",
    "from scipy import ndimage\n",
    "import tensorflow as tf\n",
    "import keras\n",
    "from tensorflow.python.framework import ops\n",
    "#from cnn_utils import *\n",
    "import os\n",
    "os.environ['CUDA_VISIBLE_DEVICES']='-1'\n",
    "import deepdish.io as io\n",
    "from keras.models import Sequential, Model\n",
    "from keras.layers import Input, Add, Dense, Dropout, LeakyReLU\n",
    "from keras.callbacks import ModelCheckpoint\n",
    "from keras.wrappers.scikit_learn import KerasRegressor\n",
    "from keras.utils import multi_gpu_model\n",
    "from sklearn.model_selection import cross_val_score, cross_val_predict, train_test_split\n",
    "from sklearn.model_selection import KFold\n",
    "from sklearn.preprocessing import StandardScaler, MinMaxScaler\n",
    "from sklearn.pipeline import Pipeline\n",
    "from sklearn.metrics import r2_score, mean_squared_error, mean_absolute_error\n",
    "from sklearn.metrics import roc_curve, auc"
   ]
  },
  {
   "cell_type": "code",
   "execution_count": 2,
   "metadata": {
    "collapsed": true
   },
   "outputs": [],
   "source": [
    "data_sig_A = io.load(os.path.join('MEM-A-0500_unscaled_signal.h5'))\n",
    "data_sig_B = io.load(os.path.join('MEM-B-0500_unscaled_signal.h5'))\n",
    "data_back_A = io.load(os.path.join('MEM-A-0500_unscaled_background.h5'))\n",
    "data_back_B = io.load(os.path.join('MEM-B-0500_unscaled_background.h5'))"
   ]
  },
  {
   "cell_type": "code",
   "execution_count": 3,
   "metadata": {
    "collapsed": true
   },
   "outputs": [],
   "source": [
    "X_Big_train = data_sig_A['X']\n",
    "target_BigSig_train = data_sig_A['signal_llh']\n",
    "y_BigSig_train = data_sig_A['y']\n",
    "target_BigBack_train = data_back_A['bkg_llh']\n",
    "y_BigBack_train = data_back_A['y']\n",
    "\n",
    "X_Big_test = data_sig_B['X']\n",
    "target_BigSig_test = data_sig_B['signal_llh']\n",
    "y_BigSig_test = data_sig_B['y']\n",
    "target_BigBack_test = data_back_B['bkg_llh']\n",
    "y_BigBack_test = data_back_B['y']"
   ]
  },
  {
   "cell_type": "code",
   "execution_count": 4,
   "metadata": {
    "collapsed": true
   },
   "outputs": [],
   "source": [
    "#Defining Sequential Model\n",
    "def sequential_model():\n",
    "    seqModel = Sequential()\n",
    "    seqModel.add(Dense(32, input_dim=32, kernel_initializer='glorot_normal', activation='relu'))\n",
    "    seqModel.add(Dense(12, kernel_initializer='glorot_normal', activation='relu'))\n",
    "    seqModel.add(Dense(1, kernel_initializer='glorot_normal',activation='sigmoid'))\n",
    "    seqModel.compile(loss='binary_crossentropy', optimizer='adam')\n",
    "    return seqModel"
   ]
  },
  {
   "cell_type": "code",
   "execution_count": 5,
   "metadata": {},
   "outputs": [
    {
     "name": "stdout",
     "output_type": "stream",
     "text": [
      "Epoch 1/20\n",
      "3028985/3028985 [==============================] - 19s 6us/step - loss: 0.0721\n",
      "Epoch 2/20\n",
      "3028985/3028985 [==============================] - 19s 6us/step - loss: 0.0499\n",
      "Epoch 3/20\n",
      "3028985/3028985 [==============================] - 19s 6us/step - loss: 0.0466\n",
      "Epoch 4/20\n",
      "3028985/3028985 [==============================] - 19s 6us/step - loss: 0.0446\n",
      "Epoch 5/20\n",
      "3028985/3028985 [==============================] - 19s 6us/step - loss: 0.0434\n",
      "Epoch 6/20\n",
      "3028985/3028985 [==============================] - 19s 6us/step - loss: 0.0422\n",
      "Epoch 7/20\n",
      "3028985/3028985 [==============================] - 19s 6us/step - loss: 0.0412\n",
      "Epoch 8/20\n",
      "3028985/3028985 [==============================] - 19s 6us/step - loss: 0.0403\n",
      "Epoch 9/20\n",
      "3028985/3028985 [==============================] - 19s 6us/step - loss: 0.0393\n",
      "Epoch 10/20\n",
      "3028985/3028985 [==============================] - 19s 6us/step - loss: 0.0387\n",
      "Epoch 11/20\n",
      "3028985/3028985 [==============================] - 19s 6us/step - loss: 0.0382\n",
      "Epoch 12/20\n",
      "3028985/3028985 [==============================] - 19s 6us/step - loss: 0.0378\n",
      "Epoch 13/20\n",
      "3028985/3028985 [==============================] - 19s 6us/step - loss: 0.0375\n",
      "Epoch 14/20\n",
      "3028985/3028985 [==============================] - 19s 6us/step - loss: 0.0372\n",
      "Epoch 15/20\n",
      "3028985/3028985 [==============================] - 19s 6us/step - loss: 0.0369\n",
      "Epoch 16/20\n",
      "3028985/3028985 [==============================] - 19s 6us/step - loss: 0.0367\n",
      "Epoch 17/20\n",
      "3028985/3028985 [==============================] - 19s 6us/step - loss: 0.0365\n",
      "Epoch 18/20\n",
      "3028985/3028985 [==============================] - 19s 6us/step - loss: 0.0364\n",
      "Epoch 19/20\n",
      "3028985/3028985 [==============================] - 19s 6us/step - loss: 0.0362\n",
      "Epoch 20/20\n",
      "3028985/3028985 [==============================] - 19s 6us/step - loss: 0.0361\n"
     ]
    }
   ],
   "source": [
    "sc_X = StandardScaler()\n",
    "X_train1 = sc_X.fit_transform(X_Big_train)\n",
    "X_test1 = sc_X.fit_transform(X_Big_test)\n",
    "sig_model = sequential_model()\n",
    "sig_train = sig_model.fit(X_train1, y_BigSig_train, epochs=20, batch_size=256, verbose=1)"
   ]
  },
  {
   "cell_type": "code",
   "execution_count": 11,
   "metadata": {},
   "outputs": [
    {
     "data": {
      "text/plain": [
       "['loss']"
      ]
     },
     "execution_count": 11,
     "metadata": {},
     "output_type": "execute_result"
    }
   ],
   "source": [
    "sig_train.history.keys()"
   ]
  },
  {
   "cell_type": "code",
   "execution_count": 6,
   "metadata": {},
   "outputs": [
    {
     "name": "stdout",
     "output_type": "stream",
     "text": [
      "Epoch 1/20\n",
      "3028985/3028985 [==============================] - 19s 6us/step - loss: 0.6743\n",
      "Epoch 2/20\n",
      "3028985/3028985 [==============================] - 19s 6us/step - loss: 0.6738\n",
      "Epoch 3/20\n",
      "3028985/3028985 [==============================] - 19s 6us/step - loss: 0.6738\n",
      "Epoch 4/20\n",
      "3028985/3028985 [==============================] - 19s 6us/step - loss: 0.6738\n",
      "Epoch 5/20\n",
      "3028985/3028985 [==============================] - 19s 6us/step - loss: 0.6738\n",
      "Epoch 6/20\n",
      "3028985/3028985 [==============================] - 19s 6us/step - loss: 0.6738\n",
      "Epoch 7/20\n",
      "3028985/3028985 [==============================] - 19s 6us/step - loss: 0.6738\n",
      "Epoch 8/20\n",
      "3028985/3028985 [==============================] - 19s 6us/step - loss: 0.6738\n",
      "Epoch 9/20\n",
      "3028985/3028985 [==============================] - 19s 6us/step - loss: 0.6738\n",
      "Epoch 10/20\n",
      "3028985/3028985 [==============================] - 19s 6us/step - loss: 0.6738\n",
      "Epoch 11/20\n",
      "3028985/3028985 [==============================] - 19s 6us/step - loss: 0.6738\n",
      "Epoch 12/20\n",
      "3028985/3028985 [==============================] - 19s 6us/step - loss: 0.6738\n",
      "Epoch 13/20\n",
      "3028985/3028985 [==============================] - 19s 6us/step - loss: 0.6738\n",
      "Epoch 14/20\n",
      "3028985/3028985 [==============================] - 19s 6us/step - loss: 0.6738\n",
      "Epoch 15/20\n",
      "3028985/3028985 [==============================] - 19s 6us/step - loss: 0.6738\n",
      "Epoch 16/20\n",
      "3028985/3028985 [==============================] - 19s 6us/step - loss: 0.6738\n",
      "Epoch 17/20\n",
      "3028985/3028985 [==============================] - 19s 6us/step - loss: 0.6737\n",
      "Epoch 18/20\n",
      "3028985/3028985 [==============================] - 19s 6us/step - loss: 0.6737\n",
      "Epoch 19/20\n",
      "3028985/3028985 [==============================] - 19s 6us/step - loss: 0.6737\n",
      "Epoch 20/20\n",
      "3028985/3028985 [==============================] - 19s 6us/step - loss: 0.6737\n"
     ]
    }
   ],
   "source": [
    "back_model = sequential_model()\n",
    "back_train = back_model.fit(X_train1, y_BigBack_train, epochs=20, batch_size=256, verbose=1)"
   ]
  },
  {
   "cell_type": "code",
   "execution_count": 7,
   "metadata": {},
   "outputs": [
    {
     "name": "stdout",
     "output_type": "stream",
     "text": [
      "151449/151449 [==============================] - 0s 3us/step\n"
     ]
    }
   ],
   "source": [
    "#evaluating signal model\n",
    "sig_test = sig_model.evaluate(X_test1, y_BigSig_test, batch_size=256, verbose=1)\n"
   ]
  },
  {
   "cell_type": "code",
   "execution_count": 8,
   "metadata": {},
   "outputs": [
    {
     "name": "stdout",
     "output_type": "stream",
     "text": [
      "151449/151449 [==============================] - 0s 3us/step\n"
     ]
    }
   ],
   "source": [
    "back_test = back_model.evaluate(X_test1, y_BigBack_test, batch_size=256, verbose=1)"
   ]
  },
  {
   "cell_type": "code",
   "execution_count": 9,
   "metadata": {},
   "outputs": [
    {
     "name": "stdout",
     "output_type": "stream",
     "text": [
      "151449/151449 [==============================] - 2s 11us/step\n"
     ]
    }
   ],
   "source": [
    "sig_predict = sig_model.predict(X_test1,verbose=1)"
   ]
  },
  {
   "cell_type": "code",
   "execution_count": 10,
   "metadata": {},
   "outputs": [
    {
     "name": "stdout",
     "output_type": "stream",
     "text": [
      "151449/151449 [==============================] - 2s 12us/step\n"
     ]
    }
   ],
   "source": [
    "back_predict = back_model.predict(X_test1,verbose=1)"
   ]
  },
  {
   "cell_type": "code",
   "execution_count": 37,
   "metadata": {},
   "outputs": [
    {
     "data": {
      "image/png": "[encoded data removed]",
      "text/plain": [
       "<Figure size 432x288 with 1 Axes>"
      ]
     },
     "metadata": {},
     "output_type": "display_data"
    }
   ],
   "source": [
    "_=plt.hist(sig_predict[np.where(y_BigSig_test==1)],bins=100)\n",
    "_=plt.hist(back_predict[np.where(y_BigSig_test==0)],bins=100)"
   ]
  },
  {
   "cell_type": "code",
   "execution_count": 41,
   "metadata": {},
   "outputs": [
    {
     "data": {
      "image/png": "[encoded data removed]",
      "text/plain": [
       "<Figure size 432x288 with 1 Axes>"
      ]
     },
     "metadata": {},
     "output_type": "display_data"
    }
   ],
   "source": [
    "fpr = dict()\n",
    "tpr = dict()\n",
    "roc_auc = dict()\n",
    "for i in range(2):\n",
    "    fpr[i], tpr[i], _ = roc_curve(y_BigSig_test, sig_predict)\n",
    "    roc_auc[i] = auc(fpr[i], tpr[i])\n",
    "\n",
    "#print roc_auc_score(test, pred)\n",
    "plt.figure()\n",
    "plt.plot(fpr[0], tpr[0])\n",
    "plt.xlim([0.0, 1.0])\n",
    "plt.ylim([0.0, 1.05])\n",
    "plt.xlabel('False Positive Rate')\n",
    "plt.ylabel('True Positive Rate')\n",
    "plt.title('Receiver operating characteristic')\n",
    "plt.show()"
   ]
  },
  {
   "cell_type": "code",
   "execution_count": null,
   "metadata": {
    "collapsed": true
   },
   "outputs": [],
   "source": []
  }
 ],
 "metadata": {
  "kernelspec": {
   "display_name": "env2",
   "language": "python",
   "name": "env2"
  },
  "language_info": {
   "codemirror_mode": {
    "name": "ipython",
    "version": 2
   },
   "file_extension": ".py",
   "mimetype": "text/x-python",
   "name": "python",
   "nbconvert_exporter": "python",
   "pygments_lexer": "ipython2",
   "version": "2.7.12"
  }
 },
 "nbformat": 4,
 "nbformat_minor": 2
}
