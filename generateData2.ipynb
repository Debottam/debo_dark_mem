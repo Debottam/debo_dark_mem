{
 "cells": [
  {
   "cell_type": "code",
   "execution_count": 1,
   "metadata": {},
   "outputs": [
    {
     "name": "stderr",
     "output_type": "stream",
     "text": [
      "Using TensorFlow backend.\n"
     ]
    },
    {
     "data": {
      "application/javascript": [
       "\n",
       "require(['notebook'],\n",
       "  function() {\n",
       "    IPython.CodeCell.config_defaults.highlight_modes['magic_text/x-c++src'] = {'reg':[/^%%cpp/]};\n",
       "    console.log(\"JupyROOT - %%cpp magic configured\");\n",
       "  }\n",
       ");\n"
      ]
     },
     "metadata": {},
     "output_type": "display_data"
    },
    {
     "name": "stdout",
     "output_type": "stream",
     "text": [
      "Welcome to JupyROOT 6.07/07\n"
     ]
    }
   ],
   "source": [
    "from pprint import pprint\n",
    "import math\n",
    "import numpy as np\n",
    "import h5py\n",
    "import matplotlib.pyplot as plt\n",
    "import scipy\n",
    "from scipy import ndimage\n",
    "import tensorflow as tf\n",
    "import keras\n",
    "from tensorflow.python.framework import ops\n",
    "#from cnn_utils import *\n",
    "import os\n",
    "os.environ['CUDA_VISIBLE_DEVICES']='-1'\n",
    "import deepdish.io as io\n",
    "from keras.models import Sequential, Model\n",
    "#from keras.layers import Input, Add, Dense, Dropout, LeakyReLU\n",
    "from keras.callbacks import ModelCheckpoint\n",
    "from keras.wrappers.scikit_learn import KerasRegressor\n",
    "#from keras.utils import multi_gpu_model\n",
    "from sklearn.model_selection import cross_val_score, cross_val_predict, train_test_split\n",
    "from sklearn.model_selection import KFold\n",
    "from sklearn.preprocessing import StandardScaler, MinMaxScaler\n",
    "from sklearn.pipeline import Pipeline\n",
    "from sklearn.metrics import r2_score, mean_squared_error, mean_absolute_error\n",
    "from sklearn.metrics import roc_curve, auc\n",
    "from sklearn import metrics\n",
    "from itertools import izip\n",
    "import random\n",
    "import pandautils as pup\n",
    "import pandas as pd\n",
    "from tqdm import tqdm\n",
    "import math"
   ]
  },
  {
   "cell_type": "code",
   "execution_count": 2,
   "metadata": {},
   "outputs": [
    {
     "name": "stdout",
     "output_type": "stream",
     "text": [
      "hs: ['SA_tev13_mg5_ttH_EL_64_Sig_merge.root', 'SA_tev13_mg5_ttH_MU_64_Sig_merge.root'] \n",
      "\n",
      "hb: ['SA_tev13_mg5_ttH_EL_64_Bkg_merge.root', 'SA_tev13_mg5_ttH_MU_64_Bkg_merge.root'] \n",
      "\n",
      "ts: ['SA_mg5_ttbar_bjet_EL_64_Sig_merge.root', 'SA_mg5_ttbar_bjet_MU_64_Sig_merge.root'] \n",
      "\n",
      "tb: ['SA_mg5_ttbar_bjet_EL_64_Bkg_merge.root', 'SA_mg5_ttbar_bjet_MU_64_Bkg_merge.root'] \n",
      "\n"
     ]
    }
   ],
   "source": [
    "SAMPLE_PATH = os.path.join('/data/solved/MEMDK/april18/dark-mem/data/1d')\n",
    "higgs_signal_files = sorted([f for f in os.listdir(SAMPLE_PATH)\n",
    "    if (('Sig' in f) and (('ttH' in f)))])\n",
    "higgs_bkg_files = sorted([f for f in os.listdir(SAMPLE_PATH) \n",
    "    if (('Bkg' in f) and (('ttH' in f)))])\n",
    "ttbar_signal_files = sorted([f for f in os.listdir(SAMPLE_PATH) \n",
    "    if (('Sig' in f) and ('bjet' in f) and ('rfast' not in f) and ('PPP' not in f))])\n",
    "ttbar_bkg_files = sorted([f for f in os.listdir(SAMPLE_PATH) \n",
    "    if (('Bkg' in f) and ('bjet' in f) and ('rfast' not in f) and ('PPP' not in f))])\n",
    "\n",
    "print 'hs:', higgs_signal_files,'\\n'\n",
    "print 'hb:', higgs_bkg_files,'\\n'\n",
    "print 'ts:', ttbar_signal_files,'\\n'\n",
    "print 'tb:', ttbar_bkg_files,'\\n'"
   ]
  },
  {
   "cell_type": "code",
   "execution_count": 3,
   "metadata": {
    "collapsed": true
   },
   "outputs": [],
   "source": [
    "TREE = 'METree'\n",
    "signal_vars = ['ME_Sig_Obj_pt', 'ME_Sig_Obj_eta', 'ME_Sig_Obj_phi', 'ME_Sig_Obj_E',\n",
    "              'ME_Sig_Likelihoods_Available',\n",
    "              'ME_Sig_Mod_Likelihoods',\n",
    "              'ME_Sig_Obj_type'] \n",
    "bkg_vars = ['ME_Bkg_Mod_Likelihoods', 'ME_Bkg_Likelihoods_Available']"
   ]
  },
  {
   "cell_type": "code",
   "execution_count": 4,
   "metadata": {},
   "outputs": [
    {
     "name": "stdout",
     "output_type": "stream",
     "text": [
      "['/data/solved/MEMDK/april18/dark-mem/data/1d/SA_tev13_mg5_ttH_EL_64_Sig_merge.root', '/data/solved/MEMDK/april18/dark-mem/data/1d/SA_tev13_mg5_ttH_MU_64_Sig_merge.root']\n",
      "['/data/solved/MEMDK/april18/dark-mem/data/1d/SA_mg5_ttbar_bjet_EL_64_Sig_merge.root', '/data/solved/MEMDK/april18/dark-mem/data/1d/SA_mg5_ttbar_bjet_MU_64_Sig_merge.root']\n",
      "['/data/solved/MEMDK/april18/dark-mem/data/1d/SA_tev13_mg5_ttH_EL_64_Bkg_merge.root', '/data/solved/MEMDK/april18/dark-mem/data/1d/SA_tev13_mg5_ttH_MU_64_Bkg_merge.root']\n",
      "['/data/solved/MEMDK/april18/dark-mem/data/1d/SA_mg5_ttbar_bjet_EL_64_Bkg_merge.root', '/data/solved/MEMDK/april18/dark-mem/data/1d/SA_mg5_ttbar_bjet_MU_64_Bkg_merge.root']\n"
     ]
    },
    {
     "name": "stderr",
     "output_type": "stream",
     "text": [
      "/home/debo/env2/local/lib/python2.7/site-packages/root_numpy/_tree.py:279: DeprecationWarning: root2rec is deprecated and will be removed in 5.0.0. Instead use root2array(...).view(np.recarray)\n",
      "  DeprecationWarning)\n",
      "/home/debo/env2/local/lib/python2.7/site-packages/root_numpy/_tree.py:279: DeprecationWarning: root2rec is deprecated and will be removed in 5.0.0. Instead use root2array(...).view(np.recarray)\n",
      "  DeprecationWarning)\n",
      "/home/debo/env2/local/lib/python2.7/site-packages/root_numpy/_tree.py:279: DeprecationWarning: root2rec is deprecated and will be removed in 5.0.0. Instead use root2array(...).view(np.recarray)\n",
      "  DeprecationWarning)\n",
      "/home/debo/env2/local/lib/python2.7/site-packages/root_numpy/_tree.py:279: DeprecationWarning: root2rec is deprecated and will be removed in 5.0.0. Instead use root2array(...).view(np.recarray)\n",
      "  DeprecationWarning)\n",
      "/home/debo/env2/local/lib/python2.7/site-packages/root_numpy/_tree.py:279: DeprecationWarning: root2rec is deprecated and will be removed in 5.0.0. Instead use root2array(...).view(np.recarray)\n",
      "  DeprecationWarning)\n",
      "/home/debo/env2/local/lib/python2.7/site-packages/root_numpy/_tree.py:279: DeprecationWarning: root2rec is deprecated and will be removed in 5.0.0. Instead use root2array(...).view(np.recarray)\n",
      "  DeprecationWarning)\n",
      "/home/debo/env2/local/lib/python2.7/site-packages/root_numpy/_tree.py:279: DeprecationWarning: root2rec is deprecated and will be removed in 5.0.0. Instead use root2array(...).view(np.recarray)\n",
      "  DeprecationWarning)\n",
      "/home/debo/env2/local/lib/python2.7/site-packages/root_numpy/_tree.py:279: DeprecationWarning: root2rec is deprecated and will be removed in 5.0.0. Instead use root2array(...).view(np.recarray)\n",
      "  DeprecationWarning)\n"
     ]
    }
   ],
   "source": [
    "#signal samples\n",
    "\n",
    "higgs_signal_df = pup.root2panda(\n",
    "    [os.path.join(SAMPLE_PATH, signal) for signal in higgs_signal_files], TREE,\n",
    "    branches = signal_vars\n",
    ")\n",
    "print [os.path.join(SAMPLE_PATH, signal) for signal in higgs_signal_files]\n",
    "\n",
    "ttbar_signal_df = pup.root2panda(\n",
    "    [os.path.join(SAMPLE_PATH, signal) for signal in ttbar_signal_files], TREE,\n",
    "    branches = signal_vars\n",
    ")\n",
    "print  [os.path.join(SAMPLE_PATH, signal) for signal in ttbar_signal_files]\n",
    "\n",
    "#bkg samples\n",
    "higgs_bkg_df = pup.root2panda(\n",
    "    [os.path.join(SAMPLE_PATH, bkg) for bkg in higgs_bkg_files], TREE,\n",
    "    branches = bkg_vars\n",
    ")\n",
    "print [os.path.join(SAMPLE_PATH, bkg) for bkg in higgs_bkg_files]\n",
    "\n",
    "ttbar_bkg_df = pup.root2panda(\n",
    "    [os.path.join(SAMPLE_PATH, bkg) for bkg in ttbar_bkg_files], TREE,\n",
    "    branches = bkg_vars\n",
    ")\n",
    "print  [os.path.join(SAMPLE_PATH, bkg) for bkg in ttbar_bkg_files]"
   ]
  },
  {
   "cell_type": "code",
   "execution_count": 5,
   "metadata": {
    "collapsed": true
   },
   "outputs": [],
   "source": [
    "higgSiglh = higgs_signal_df['ME_Sig_Mod_Likelihoods']\n",
    "ttbarSiglh = ttbar_signal_df['ME_Sig_Mod_Likelihoods']\n",
    "higgBkglh = higgs_bkg_df['ME_Bkg_Mod_Likelihoods']\n",
    "ttbarBkglh = ttbar_bkg_df['ME_Bkg_Mod_Likelihoods']"
   ]
  },
  {
   "cell_type": "code",
   "execution_count": 6,
   "metadata": {
    "collapsed": true
   },
   "outputs": [],
   "source": [
    "signal_lh = np.array([a[0] for a in higgSiglh] + [a[0] for a in ttbarSiglh])\n",
    "bkg_lh = np.array([a[0] for a in higgBkglh] + [a[0] for a in ttbarBkglh])"
   ]
  },
  {
   "cell_type": "code",
   "execution_count": 7,
   "metadata": {
    "collapsed": true
   },
   "outputs": [],
   "source": [
    "y = np.array(([1] * higgs_signal_df.shape[0]) + ([0] * ttbar_signal_df.shape[0]))"
   ]
  },
  {
   "cell_type": "code",
   "execution_count": 8,
   "metadata": {},
   "outputs": [
    {
     "data": {
      "text/plain": [
       "(2668047,)"
      ]
     },
     "execution_count": 8,
     "metadata": {},
     "output_type": "execute_result"
    }
   ],
   "source": [
    "np.shape(bkg_lh)"
   ]
  },
  {
   "cell_type": "code",
   "execution_count": 9,
   "metadata": {
    "collapsed": true
   },
   "outputs": [],
   "source": [
    "higgs_slice = np.logical_and(\n",
    "        higgs_signal_df['ME_Sig_Likelihoods_Available'] == True, \n",
    "        higgs_bkg_df['ME_Bkg_Likelihoods_Available'] == True\n",
    "        )\n",
    "ttbar_slice = np.logical_and(\n",
    "        ttbar_signal_df['ME_Sig_Likelihoods_Available'] == True, \n",
    "        ttbar_bkg_df['ME_Bkg_Likelihoods_Available'] == True\n",
    "        )"
   ]
  },
  {
   "cell_type": "code",
   "execution_count": 10,
   "metadata": {
    "collapsed": true
   },
   "outputs": [],
   "source": [
    "higgs_slice = np.logical_and(\n",
    "            higgs_slice, \n",
    "            np.array([(-1 not in event) for event in higgs_signal_df[\"ME_Sig_Obj_type\"]])\n",
    "            )\n",
    "ttbar_slice = np.logical_and(\n",
    "            ttbar_slice, \n",
    "            np.array([(-1 not in event) for event in ttbar_signal_df[\"ME_Sig_Obj_type\"]])\n",
    "            )"
   ]
  },
  {
   "cell_type": "code",
   "execution_count": 11,
   "metadata": {},
   "outputs": [
    {
     "data": {
      "text/plain": [
       "7"
      ]
     },
     "execution_count": 11,
     "metadata": {},
     "output_type": "execute_result"
    }
   ],
   "source": [
    "higgs_signal_df.shape[1]"
   ]
  },
  {
   "cell_type": "code",
   "execution_count": 12,
   "metadata": {
    "collapsed": true
   },
   "outputs": [],
   "source": [
    "higgs_signal_df = higgs_signal_df[higgs_slice]\n",
    "ttbar_signal_df = ttbar_signal_df[ttbar_slice]\n",
    "higgs_bkg_df = higgs_bkg_df[higgs_slice]\n",
    "ttbar_bkg_df = ttbar_bkg_df[ttbar_slice]"
   ]
  },
  {
   "cell_type": "code",
   "execution_count": 13,
   "metadata": {},
   "outputs": [
    {
     "data": {
      "text/plain": [
       "441957"
      ]
     },
     "execution_count": 13,
     "metadata": {},
     "output_type": "execute_result"
    }
   ],
   "source": [
    "higgs_signal_df.shape[0]"
   ]
  },
  {
   "cell_type": "code",
   "execution_count": 14,
   "metadata": {
    "collapsed": true
   },
   "outputs": [],
   "source": [
    "rtbr = [n for n, ev in ttbar_signal_df.iterrows() if ev['ME_Sig_Obj_pt'][np.logical_or(\n",
    "            ev['ME_Sig_Obj_type'] == 11,\n",
    "            ev['ME_Sig_Obj_type'] == 13)] < 20]\n",
    "ttbar_signal_df.drop(rtbr, inplace=True)\n",
    "ttbar_bkg_df.drop(rtbr, inplace=True)"
   ]
  },
  {
   "cell_type": "code",
   "execution_count": 15,
   "metadata": {},
   "outputs": [
    {
     "data": {
      "text/plain": [
       "252362"
      ]
     },
     "execution_count": 15,
     "metadata": {},
     "output_type": "execute_result"
    }
   ],
   "source": [
    "ttbar_signal_df.shape[0]"
   ]
  },
  {
   "cell_type": "code",
   "execution_count": 16,
   "metadata": {
    "collapsed": true
   },
   "outputs": [],
   "source": [
    "y = np.array(([1] * higgs_signal_df.shape[0]) + ([0] * ttbar_signal_df.shape[0]))"
   ]
  },
  {
   "cell_type": "code",
   "execution_count": 17,
   "metadata": {
    "collapsed": true
   },
   "outputs": [],
   "source": [
    "df = pd.concat([higgs_signal_df, ttbar_signal_df], ignore_index=True)"
   ]
  },
  {
   "cell_type": "code",
   "execution_count": 18,
   "metadata": {},
   "outputs": [
    {
     "name": "stdout",
     "output_type": "stream",
     "text": [
      "('df Shape:', (694319, 7), Index([u'ME_Sig_Obj_pt', u'ME_Sig_Obj_eta', u'ME_Sig_Obj_phi', u'ME_Sig_Obj_E',\n",
      "       u'ME_Sig_Likelihoods_Available', u'ME_Sig_Mod_Likelihoods',\n",
      "       u'ME_Sig_Obj_type'],\n",
      "      dtype='object'))\n"
     ]
    }
   ],
   "source": [
    "print(\"df Shape:\", np.shape(df), df.keys())"
   ]
  },
  {
   "cell_type": "code",
   "execution_count": 19,
   "metadata": {},
   "outputs": [
    {
     "name": "stderr",
     "output_type": "stream",
     "text": [
      "100%|██████████| 694319/694319 [00:08<00:00, 85411.90it/s]\n"
     ]
    }
   ],
   "source": [
    "X = np.array([np.asarray(row.tolist())[:, 2:10].ravel() \n",
    "        for row in tqdm(df[['ME_Sig_Obj_pt', 'ME_Sig_Obj_eta', 'ME_Sig_Obj_phi', 'ME_Sig_Obj_E']].values)])"
   ]
  },
  {
   "cell_type": "code",
   "execution_count": 20,
   "metadata": {
    "collapsed": true
   },
   "outputs": [],
   "source": [
    "np.shape(X)\n",
    "X1 = X[:,0:15]\n",
    "X2 = X[:,16:31]\n",
    "X_f = np.concatenate((X1, X2),1)"
   ]
  },
  {
   "cell_type": "code",
   "execution_count": 88,
   "metadata": {},
   "outputs": [
    {
     "data": {
      "text/plain": [
       "array([[262.85134888, 191.93199158,  46.43951797,  78.72025299],\n",
       "       [ 91.22373199,  69.10379791,  79.66311646,  21.08840561],\n",
       "       [118.49626923, 127.87448883, 254.40983582,  35.38309479],\n",
       "       ...,\n",
       "       [ 52.88605881, 124.5166626 ,  75.38405609,  60.67832947],\n",
       "       [ 25.16940117,  45.16162872,  30.24385452,  68.76551819],\n",
       "       [ 74.67963409,  26.19617653,  30.15285492,  61.97507858]])"
      ]
     },
     "execution_count": 88,
     "metadata": {},
     "output_type": "execute_result"
    }
   ],
   "source": [
    "X[:,0:4]"
   ]
  },
  {
   "cell_type": "code",
   "execution_count": 89,
   "metadata": {},
   "outputs": [
    {
     "data": {
      "text/plain": [
       "array([[-1.88035667,  1.37000525,  1.41209114,  0.98285449],\n",
       "       [ 0.43577498,  2.39467049,  0.60956454, -1.74364018],\n",
       "       [-2.13234353,  1.68945456, -2.42017436,  2.88544178],\n",
       "       ...,\n",
       "       [ 0.61039215,  3.00203514,  0.93553823,  1.70204759],\n",
       "       [ 1.09157717,  2.69407773,  0.9132545 , -0.48754567],\n",
       "       [ 3.0607419 , -2.10038447, -1.19327176,  1.63668549]])"
      ]
     },
     "execution_count": 89,
     "metadata": {},
     "output_type": "execute_result"
    }
   ],
   "source": [
    "X[:,16:20]"
   ]
  },
  {
   "cell_type": "code",
   "execution_count": 21,
   "metadata": {
    "collapsed": true
   },
   "outputs": [],
   "source": [
    "b_jet_Pz = np.multiply(X[:,0:4],np.cosh(X[:,8:12]))\n",
    "b_jet_Px = np.multiply(X[:,0:4],np.cos(X[:,16:20]))\n",
    "b_jet_Py = np.multiply(X[:,0:4],np.sin(X[:,16:20]))"
   ]
  },
  {
   "cell_type": "code",
   "execution_count": 81,
   "metadata": {},
   "outputs": [
    {
     "data": {
      "text/plain": [
       "array([[ -80.07501035,   38.27979478,    7.33929225,   43.66215982],\n",
       "       [  82.69825251,  -50.70721772,   65.31558201,   -3.6268794 ],\n",
       "       [ -63.09884128,  -15.13777915, -191.02865552,  -34.22862764],\n",
       "       ...,\n",
       "       [  43.33606899, -123.30606744,   44.73178917,   -7.94126073],\n",
       "       [  11.6052693 ,  -40.71434833,   18.48422924,   60.75332252],\n",
       "       [ -74.43568246,  -13.23373072,   11.1149602 ,   -4.08053208]])"
      ]
     },
     "execution_count": 81,
     "metadata": {},
     "output_type": "execute_result"
    }
   ],
   "source": [
    "b_jet_Px"
   ]
  },
  {
   "cell_type": "code",
   "execution_count": 82,
   "metadata": {},
   "outputs": [
    {
     "data": {
      "text/plain": [
       "array([[-250.35739319,  188.07590676,   45.85590059,   65.5018628 ],\n",
       "       [  38.50673073,   46.9479814 ,   45.60796937,  -20.77418102],\n",
       "       [-100.29906306,  126.97532255, -168.02504971,    8.96462195],\n",
       "       ...,\n",
       "       [  30.3136989 ,   17.32088324,   60.67802692,   60.15642979],\n",
       "       [  22.33419978,   19.54263413,   23.93791983,  -32.21382149],\n",
       "       [   6.0313286 ,  -22.6076986 ,  -28.02949018,   61.8405985 ]])"
      ]
     },
     "execution_count": 82,
     "metadata": {},
     "output_type": "execute_result"
    }
   ],
   "source": [
    "b_jet_Py"
   ]
  },
  {
   "cell_type": "code",
   "execution_count": 83,
   "metadata": {},
   "outputs": [
    {
     "data": {
      "text/plain": [
       "array([[380.04889428, 204.03891395,  49.23235551, 173.44668699],\n",
       "       [120.46835181, 120.18797316, 123.61550894,  33.31095369],\n",
       "       [139.07450842, 208.78174906, 289.31382402,  37.7370774 ],\n",
       "       ...,\n",
       "       [295.84425321, 186.18593341,  87.85817758,  89.17425028],\n",
       "       [131.46015296,  77.25576419,  35.16112065, 185.2008637 ],\n",
       "       [133.41768603,  34.7292742 , 141.61008943, 113.56995615]])"
      ]
     },
     "execution_count": 83,
     "metadata": {},
     "output_type": "execute_result"
    }
   ],
   "source": [
    "b_jet_Pz"
   ]
  },
  {
   "cell_type": "code",
   "execution_count": 22,
   "metadata": {},
   "outputs": [
    {
     "data": {
      "text/plain": [
       "array([[380.07795522, 204.09303861,  49.45619101, 173.51035482],\n",
       "       [120.56000078, 120.27983577, 123.7048263 ,  33.64089232],\n",
       "       [139.15390362, 208.83464449, 289.35199804,  38.02863409],\n",
       "       ...,\n",
       "       [295.88158468, 186.24524639,  87.98380174,  89.29802301],\n",
       "       [131.54414398,  77.39859883,  35.47385523, 185.26049205],\n",
       "       [133.50044549,  35.04586262, 141.68806382, 113.66716738]])"
      ]
     },
     "execution_count": 22,
     "metadata": {},
     "output_type": "execute_result"
    }
   ],
   "source": [
    "b_jetE = X[:,24:28]\n",
    "b_jetE"
   ]
  },
  {
   "cell_type": "code",
   "execution_count": 23,
   "metadata": {
    "collapsed": true
   },
   "outputs": [],
   "source": [
    "b_jet1Dot = np.zeros((694319,12))\n",
    "n = 0\n",
    "for i in range(4):\n",
    "    for j in range(4):\n",
    "        if j!=i:\n",
    "            b_jet1Dot[:,n] = np.multiply(b_jetE[:,i],b_jetE[:,j])-np.multiply(b_jet_Px[:,i],b_jet_Px[:,j])-np.multiply(b_jet_Py[:,i],b_jet_Py[:,j])-np.multiply(b_jet_Pz[:,i],b_jet_Pz[:,j])\n",
    "            n = n+1\n",
    "#b_jetE1E2 = np.multiply(b_jetE[:,0],b_jetE[:,1])"
   ]
  },
  {
   "cell_type": "code",
   "execution_count": 24,
   "metadata": {},
   "outputs": [
    {
     "data": {
      "text/plain": [
       "array([[ 5.01779498e+04,  1.21545633e+04,  1.99243628e+04, ...,\n",
       "         1.99243628e+04, -1.39683189e+04, -3.28212397e+03],\n",
       "       [ 2.40767508e+03, -7.13560095e+03,  1.14271270e+03, ...,\n",
       "         1.14271270e+03,  8.34141895e+02,  1.22815020e+03],\n",
       "       [ 1.18042664e+04, -2.88781597e+04, -1.21707617e+03, ...,\n",
       "        -1.21707617e+03, -1.59354791e+03, -4.94656458e+03],\n",
       "       ...,\n",
       "       [ 4.84304042e+03, -3.73742559e+03, -1.43946980e+03, ...,\n",
       "        -1.43946980e+03, -1.99282686e+03, -3.27285423e+03],\n",
       "       [ 6.13097328e+01, -7.05057120e+02,  3.78102264e+01, ...,\n",
       "         3.78102264e+01,  3.13414311e+03, -2.91812501e+02],\n",
       "       [-8.03568448e+02,  1.01853390e+03, -6.54341430e+02, ...,\n",
       "        -6.54341430e+02,  1.38343473e+03,  1.80134462e+03]])"
      ]
     },
     "execution_count": 24,
     "metadata": {},
     "output_type": "execute_result"
    }
   ],
   "source": [
    "b_jet1Dot"
   ]
  },
  {
   "cell_type": "code",
   "execution_count": 25,
   "metadata": {},
   "outputs": [
    {
     "data": {
      "text/plain": [
       "(694319, 12)"
      ]
     },
     "execution_count": 25,
     "metadata": {},
     "output_type": "execute_result"
    }
   ],
   "source": [
    "b_jet1Dot.shape"
   ]
  },
  {
   "cell_type": "code",
   "execution_count": 71,
   "metadata": {
    "collapsed": true
   },
   "outputs": [],
   "source": [
    "#b_jet1Dot = np.reshape(b_jet1Dot,(694319,1))"
   ]
  },
  {
   "cell_type": "code",
   "execution_count": 26,
   "metadata": {
    "collapsed": true
   },
   "outputs": [],
   "source": [
    "X_extra = np.concatenate((X_f, b_jet1Dot),1)"
   ]
  },
  {
   "cell_type": "code",
   "execution_count": 27,
   "metadata": {},
   "outputs": [
    {
     "data": {
      "text/plain": [
       "42"
      ]
     },
     "execution_count": 27,
     "metadata": {},
     "output_type": "execute_result"
    }
   ],
   "source": [
    "X_extra.shape[1]"
   ]
  },
  {
   "cell_type": "code",
   "execution_count": 28,
   "metadata": {
    "collapsed": true
   },
   "outputs": [],
   "source": [
    "signal_lh = np.array([a[0] for a in higgs_signal_df['ME_Sig_Mod_Likelihoods']] + [a[0] for a in ttbar_signal_df['ME_Sig_Mod_Likelihoods']])\n",
    "bkg_lh = np.array([a[0] for a in higgs_bkg_df['ME_Bkg_Mod_Likelihoods']] + [a[0] for a in ttbar_bkg_df['ME_Bkg_Mod_Likelihoods']])"
   ]
  },
  {
   "cell_type": "code",
   "execution_count": 29,
   "metadata": {
    "collapsed": true
   },
   "outputs": [],
   "source": [
    "X_train, X_test, y_train, y_test,\\\n",
    "    bkg_lh_train, bkg_lh_test, signal_lh_train, signal_lh_test = train_test_split(\n",
    "            X_extra, y, bkg_lh, signal_lh, train_size=0.75\n",
    "    )"
   ]
  },
  {
   "cell_type": "code",
   "execution_count": 30,
   "metadata": {
    "collapsed": true
   },
   "outputs": [],
   "source": [
    "softTarget = signal_lh_test/(signal_lh_test+(0.1*bkg_lh_test))"
   ]
  },
  {
   "cell_type": "code",
   "execution_count": 31,
   "metadata": {
    "collapsed": true
   },
   "outputs": [],
   "source": [
    "sigSoft= softTarget[np.where(y_test==1)]\n",
    "bkgSoft = softTarget[np.where(y_test==0)]"
   ]
  },
  {
   "cell_type": "code",
   "execution_count": 32,
   "metadata": {},
   "outputs": [
    {
     "data": {
      "image/png": "[encoded data removed]",
      "text/plain": [
       "<matplotlib.figure.Figure at 0x7fd9e0db2650>"
      ]
     },
     "metadata": {},
     "output_type": "display_data"
    }
   ],
   "source": [
    "_=plt.hist(sigSoft,bins=100, histtype='step', label='signal', normed = 1)\n",
    "                           \n",
    "_=plt.hist(bkgSoft,bins=100, histtype='step', color= 'red', label='background', normed = 1)\n",
    "\n",
    "_=plt.yscale('log')\n",
    "\n",
    "_=plt.legend(loc='upper center')\n",
    "\n",
    "_=plt.title('Signal_LH_to_(Sig_LH+0.1*Bkg_LH)')"
   ]
  },
  {
   "cell_type": "code",
   "execution_count": 33,
   "metadata": {},
   "outputs": [
    {
     "data": {
      "image/png": "[encoded data removed]",
      "text/plain": [
       "<matplotlib.figure.Figure at 0x7fd9ae0a7510>"
      ]
     },
     "metadata": {},
     "output_type": "display_data"
    }
   ],
   "source": [
    "fpr_MEM, tpr_MEM, thresholds_MEM = roc_curve(y_test,softTarget)\n",
    "plt.figure()\n",
    "##plt.plot(fpr, tpr)\n",
    "plt.plot(tpr_MEM, 1/fpr_MEM)\n",
    "plt.xlim([0.75, 1])\n",
    "plt.ylim([1, 10000])\n",
    "plt.ylabel('1/Bkg_eff')\n",
    "plt.xlabel('Sig_eff')\n",
    "plt.title('Receiver operating characteristic')\n",
    "plt.yscale('log')\n",
    "plt.show()"
   ]
  },
  {
   "cell_type": "code",
   "execution_count": 34,
   "metadata": {
    "collapsed": true
   },
   "outputs": [],
   "source": [
    "sigTrain_ = {\n",
    "        'X' : X_train,\n",
    "        'y' : y_train,\n",
    "        'signal_lh' : signal_lh_train\n",
    "    }\n",
    "bkgTrain_ = {\n",
    "            'X' : X_train,\n",
    "            'y' : y_train,\n",
    "            'bkg_lh' : bkg_lh_train\n",
    "    }\n",
    "sigTest_ = {\n",
    "            'X' : X_test,\n",
    "            'y' : y_test,\n",
    "            'signal_lh' : signal_lh_test\n",
    "    }\n",
    "bkgTest_ = {\n",
    "            'X' : X_test,\n",
    "            'y' : y_test,\n",
    "            'bkg_lh' : bkg_lh_test\n",
    "    }"
   ]
  },
  {
   "cell_type": "code",
   "execution_count": 35,
   "metadata": {
    "collapsed": true
   },
   "outputs": [],
   "source": [
    "SAMPLE_PATH2 = os.path.join('/home/debo/debo_dark_mem')"
   ]
  },
  {
   "cell_type": "code",
   "execution_count": 36,
   "metadata": {
    "collapsed": true
   },
   "outputs": [],
   "source": [
    "io.save(os.path.join(SAMPLE_PATH2, 'MEM-A-db' + 'sig' + 'wBjetDotProduct' + '.h5'), sigTrain_)"
   ]
  },
  {
   "cell_type": "code",
   "execution_count": 37,
   "metadata": {
    "collapsed": true
   },
   "outputs": [],
   "source": [
    "io.save(os.path.join(SAMPLE_PATH2, 'MEM-B-db' + 'sig' + 'wBjetDotProduct' + '.h5'), sigTest_)"
   ]
  },
  {
   "cell_type": "code",
   "execution_count": 38,
   "metadata": {
    "collapsed": true
   },
   "outputs": [],
   "source": [
    "io.save(os.path.join(SAMPLE_PATH2, 'MEM-A-db' + 'bkg' + 'wBjetDotProduct' + '.h5'), bkgTrain_)"
   ]
  },
  {
   "cell_type": "code",
   "execution_count": 39,
   "metadata": {
    "collapsed": true
   },
   "outputs": [],
   "source": [
    "io.save(os.path.join(SAMPLE_PATH2, 'MEM-B-db' + 'bkg' + 'wBjetDotProduct' + '.h5'), bkgTest_)"
   ]
  },
  {
   "cell_type": "code",
   "execution_count": null,
   "metadata": {
    "collapsed": true
   },
   "outputs": [],
   "source": []
  }
 ],
 "metadata": {
  "kernelspec": {
   "display_name": "env2",
   "language": "python",
   "name": "env2"
  },
  "language_info": {
   "codemirror_mode": {
    "name": "ipython",
    "version": 2
   },
   "file_extension": ".py",
   "mimetype": "text/x-python",
   "name": "python",
   "nbconvert_exporter": "python",
   "pygments_lexer": "ipython2",
   "version": "2.7.12"
  }
 },
 "nbformat": 4,
 "nbformat_minor": 2
}
