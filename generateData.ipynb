{
 "cells": [
  {
   "cell_type": "code",
   "execution_count": 1,
   "metadata": {},
   "outputs": [
    {
     "name": "stderr",
     "output_type": "stream",
     "text": [
      "Using TensorFlow backend.\n"
     ]
    },
    {
     "data": {
      "application/javascript": [
       "\n",
       "require(['notebook'],\n",
       "  function() {\n",
       "    IPython.CodeCell.config_defaults.highlight_modes['magic_text/x-c++src'] = {'reg':[/^%%cpp/]};\n",
       "    console.log(\"JupyROOT - %%cpp magic configured\");\n",
       "  }\n",
       ");\n"
      ]
     },
     "metadata": {},
     "output_type": "display_data"
    },
    {
     "name": "stdout",
     "output_type": "stream",
     "text": [
      "Welcome to JupyROOT 6.07/07\n"
     ]
    }
   ],
   "source": [
    "from pprint import pprint\n",
    "import math\n",
    "import numpy as np\n",
    "import h5py\n",
    "import matplotlib.pyplot as plt\n",
    "import scipy\n",
    "from scipy import ndimage\n",
    "import tensorflow as tf\n",
    "import keras\n",
    "from tensorflow.python.framework import ops\n",
    "#from cnn_utils import *\n",
    "import os\n",
    "os.environ['CUDA_VISIBLE_DEVICES']='-1'\n",
    "import deepdish.io as io\n",
    "from keras.models import Sequential, Model\n",
    "#from keras.layers import Input, Add, Dense, Dropout, LeakyReLU\n",
    "from keras.callbacks import ModelCheckpoint\n",
    "from keras.wrappers.scikit_learn import KerasRegressor\n",
    "#from keras.utils import multi_gpu_model\n",
    "from sklearn.model_selection import cross_val_score, cross_val_predict, train_test_split\n",
    "from sklearn.model_selection import KFold\n",
    "from sklearn.preprocessing import StandardScaler, MinMaxScaler\n",
    "from sklearn.pipeline import Pipeline\n",
    "from sklearn.metrics import r2_score, mean_squared_error, mean_absolute_error\n",
    "from sklearn.metrics import roc_curve, auc\n",
    "from sklearn import metrics\n",
    "from itertools import izip\n",
    "import random\n",
    "import pandautils as pup\n",
    "import pandas as pd\n",
    "from tqdm import tqdm"
   ]
  },
  {
   "cell_type": "code",
   "execution_count": 3,
   "metadata": {},
   "outputs": [
    {
     "name": "stdout",
     "output_type": "stream",
     "text": [
      "hs: ['SA_tev13_mg5_ttH_EL_64_Sig_merge.root', 'SA_tev13_mg5_ttH_MU_64_Sig_merge.root'] \n",
      "\n",
      "hb: ['SA_tev13_mg5_ttH_EL_64_Bkg_merge.root', 'SA_tev13_mg5_ttH_MU_64_Bkg_merge.root'] \n",
      "\n",
      "ts: ['SA_mg5_ttbar_bjet_EL_64_Sig_merge.root', 'SA_mg5_ttbar_bjet_EL_64_Sig_merge_PPP1.root', 'SA_mg5_ttbar_bjet_EL_64_Sig_merge_PPP2.root', 'SA_mg5_ttbar_bjet_MU_64_Sig_merge.root', 'SA_mg5_ttbar_bjet_MU_64_Sig_merge_PPP1.root', 'SA_mg5_ttbar_bjet_MU_64_Sig_merge_PPP2.root'] \n",
      "\n",
      "tb: ['SA_mg5_ttbar_bjet_EL_64_Bkg_merge.root', 'SA_mg5_ttbar_bjet_EL_64_Bkg_merge_PPP1.root', 'SA_mg5_ttbar_bjet_EL_64_Bkg_merge_PPP2.root', 'SA_mg5_ttbar_bjet_MU_64_Bkg_merge.root', 'SA_mg5_ttbar_bjet_MU_64_Bkg_merge_PPP1.root', 'SA_mg5_ttbar_bjet_MU_64_Bkg_merge_PPP2.root'] \n",
      "\n"
     ]
    }
   ],
   "source": [
    "SAMPLE_PATH = os.path.join('/data/solved/MEMDK/april18/dark-mem/data/1d')\n",
    "#safe_mkdir(SAMPLE_PATH)\n",
    "higgs_signal_files = sorted([f for f in os.listdir(SAMPLE_PATH) \n",
    "    if (('Sig' in f) and (('ttH' in f)))])\n",
    "higgs_bkg_files = sorted([f for f in os.listdir(SAMPLE_PATH) \n",
    "    if (('Bkg' in f) and (('ttH' in f)))])\n",
    "ttbar_signal_files = sorted([f for f in os.listdir(SAMPLE_PATH) \n",
    "    if ((('Sig' in f) and ('bjet' in f) and ('rfast' not in f)) or \n",
    "        (('Sig' in f) and ('bjet' in f) and ('PPP' in f)and ('rfast' not in f)))])\n",
    "ttbar_bkg_files = sorted([f for f in os.listdir(SAMPLE_PATH) \n",
    "    if ((('Bkg' in f) and ('bjet' in f) and ('rfast' not in f)) or \n",
    "        (('Bkg' in f) and ('bjet' in f) and ('PPP' in f)and ('rfast' not in f)))])\n",
    "\n",
    "print 'hs:', higgs_signal_files,'\\n'\n",
    "print 'hb:', higgs_bkg_files,'\\n'\n",
    "print 'ts:', ttbar_signal_files,'\\n'\n",
    "print 'tb:', ttbar_bkg_files,'\\n'"
   ]
  },
  {
   "cell_type": "code",
   "execution_count": 4,
   "metadata": {
    "collapsed": true
   },
   "outputs": [],
   "source": [
    "TREE = 'METree'\n",
    "signal_vars = ['ME_Sig_Obj_pt', 'ME_Sig_Obj_eta', 'ME_Sig_Obj_phi', 'ME_Sig_Obj_E',\n",
    "              'ME_Sig_Likelihoods_Available',\n",
    "              'ME_Sig_Mod_Likelihoods',\n",
    "              'ME_Sig_Obj_type'] \n",
    "bkg_vars = ['ME_Bkg_Mod_Likelihoods', 'ME_Bkg_Likelihoods_Available']"
   ]
  },
  {
   "cell_type": "code",
   "execution_count": 5,
   "metadata": {},
   "outputs": [
    {
     "name": "stdout",
     "output_type": "stream",
     "text": [
      "['/data/solved/MEMDK/april18/dark-mem/data/1d/SA_tev13_mg5_ttH_EL_64_Sig_merge.root', '/data/solved/MEMDK/april18/dark-mem/data/1d/SA_tev13_mg5_ttH_MU_64_Sig_merge.root']\n",
      "['/data/solved/MEMDK/april18/dark-mem/data/1d/SA_mg5_ttbar_bjet_EL_64_Sig_merge.root', '/data/solved/MEMDK/april18/dark-mem/data/1d/SA_mg5_ttbar_bjet_EL_64_Sig_merge_PPP1.root', '/data/solved/MEMDK/april18/dark-mem/data/1d/SA_mg5_ttbar_bjet_EL_64_Sig_merge_PPP2.root', '/data/solved/MEMDK/april18/dark-mem/data/1d/SA_mg5_ttbar_bjet_MU_64_Sig_merge.root', '/data/solved/MEMDK/april18/dark-mem/data/1d/SA_mg5_ttbar_bjet_MU_64_Sig_merge_PPP1.root', '/data/solved/MEMDK/april18/dark-mem/data/1d/SA_mg5_ttbar_bjet_MU_64_Sig_merge_PPP2.root']\n",
      "['/data/solved/MEMDK/april18/dark-mem/data/1d/SA_tev13_mg5_ttH_EL_64_Bkg_merge.root', '/data/solved/MEMDK/april18/dark-mem/data/1d/SA_tev13_mg5_ttH_MU_64_Bkg_merge.root']\n",
      "['/data/solved/MEMDK/april18/dark-mem/data/1d/SA_mg5_ttbar_bjet_EL_64_Bkg_merge.root', '/data/solved/MEMDK/april18/dark-mem/data/1d/SA_mg5_ttbar_bjet_EL_64_Bkg_merge_PPP1.root', '/data/solved/MEMDK/april18/dark-mem/data/1d/SA_mg5_ttbar_bjet_EL_64_Bkg_merge_PPP2.root', '/data/solved/MEMDK/april18/dark-mem/data/1d/SA_mg5_ttbar_bjet_MU_64_Bkg_merge.root', '/data/solved/MEMDK/april18/dark-mem/data/1d/SA_mg5_ttbar_bjet_MU_64_Bkg_merge_PPP1.root', '/data/solved/MEMDK/april18/dark-mem/data/1d/SA_mg5_ttbar_bjet_MU_64_Bkg_merge_PPP2.root']\n"
     ]
    },
    {
     "name": "stderr",
     "output_type": "stream",
     "text": [
      "/home/debo/env2/local/lib/python2.7/site-packages/root_numpy/_tree.py:279: DeprecationWarning: root2rec is deprecated and will be removed in 5.0.0. Instead use root2array(...).view(np.recarray)\n",
      "  DeprecationWarning)\n",
      "/home/debo/env2/local/lib/python2.7/site-packages/root_numpy/_tree.py:279: DeprecationWarning: root2rec is deprecated and will be removed in 5.0.0. Instead use root2array(...).view(np.recarray)\n",
      "  DeprecationWarning)\n",
      "/home/debo/env2/local/lib/python2.7/site-packages/root_numpy/_tree.py:279: DeprecationWarning: root2rec is deprecated and will be removed in 5.0.0. Instead use root2array(...).view(np.recarray)\n",
      "  DeprecationWarning)\n",
      "/home/debo/env2/local/lib/python2.7/site-packages/root_numpy/_tree.py:279: DeprecationWarning: root2rec is deprecated and will be removed in 5.0.0. Instead use root2array(...).view(np.recarray)\n",
      "  DeprecationWarning)\n",
      "/home/debo/env2/local/lib/python2.7/site-packages/root_numpy/_tree.py:279: DeprecationWarning: root2rec is deprecated and will be removed in 5.0.0. Instead use root2array(...).view(np.recarray)\n",
      "  DeprecationWarning)\n",
      "/home/debo/env2/local/lib/python2.7/site-packages/root_numpy/_tree.py:279: DeprecationWarning: root2rec is deprecated and will be removed in 5.0.0. Instead use root2array(...).view(np.recarray)\n",
      "  DeprecationWarning)\n",
      "/home/debo/env2/local/lib/python2.7/site-packages/root_numpy/_tree.py:279: DeprecationWarning: root2rec is deprecated and will be removed in 5.0.0. Instead use root2array(...).view(np.recarray)\n",
      "  DeprecationWarning)\n",
      "/home/debo/env2/local/lib/python2.7/site-packages/root_numpy/_tree.py:279: DeprecationWarning: root2rec is deprecated and will be removed in 5.0.0. Instead use root2array(...).view(np.recarray)\n",
      "  DeprecationWarning)\n",
      "/home/debo/env2/local/lib/python2.7/site-packages/root_numpy/_tree.py:279: DeprecationWarning: root2rec is deprecated and will be removed in 5.0.0. Instead use root2array(...).view(np.recarray)\n",
      "  DeprecationWarning)\n",
      "/home/debo/env2/local/lib/python2.7/site-packages/root_numpy/_tree.py:279: DeprecationWarning: root2rec is deprecated and will be removed in 5.0.0. Instead use root2array(...).view(np.recarray)\n",
      "  DeprecationWarning)\n",
      "/home/debo/env2/local/lib/python2.7/site-packages/root_numpy/_tree.py:279: DeprecationWarning: root2rec is deprecated and will be removed in 5.0.0. Instead use root2array(...).view(np.recarray)\n",
      "  DeprecationWarning)\n",
      "/home/debo/env2/local/lib/python2.7/site-packages/root_numpy/_tree.py:279: DeprecationWarning: root2rec is deprecated and will be removed in 5.0.0. Instead use root2array(...).view(np.recarray)\n",
      "  DeprecationWarning)\n",
      "/home/debo/env2/local/lib/python2.7/site-packages/root_numpy/_tree.py:279: DeprecationWarning: root2rec is deprecated and will be removed in 5.0.0. Instead use root2array(...).view(np.recarray)\n",
      "  DeprecationWarning)\n",
      "/home/debo/env2/local/lib/python2.7/site-packages/root_numpy/_tree.py:279: DeprecationWarning: root2rec is deprecated and will be removed in 5.0.0. Instead use root2array(...).view(np.recarray)\n",
      "  DeprecationWarning)\n",
      "/home/debo/env2/local/lib/python2.7/site-packages/root_numpy/_tree.py:279: DeprecationWarning: root2rec is deprecated and will be removed in 5.0.0. Instead use root2array(...).view(np.recarray)\n",
      "  DeprecationWarning)\n",
      "/home/debo/env2/local/lib/python2.7/site-packages/root_numpy/_tree.py:279: DeprecationWarning: root2rec is deprecated and will be removed in 5.0.0. Instead use root2array(...).view(np.recarray)\n",
      "  DeprecationWarning)\n"
     ]
    }
   ],
   "source": [
    "#signal samples\n",
    "\n",
    "higgs_signal_df = pup.root2panda(\n",
    "    [os.path.join(SAMPLE_PATH, signal) for signal in higgs_signal_files], TREE,\n",
    "    branches = signal_vars\n",
    ")\n",
    "print [os.path.join(SAMPLE_PATH, signal) for signal in higgs_signal_files]\n",
    "\n",
    "ttbar_signal_df = pup.root2panda(\n",
    "    [os.path.join(SAMPLE_PATH, signal) for signal in ttbar_signal_files], TREE,\n",
    "    branches = signal_vars\n",
    ")\n",
    "print  [os.path.join(SAMPLE_PATH, signal) for signal in ttbar_signal_files]\n",
    "\n",
    "#bkg samples\n",
    "higgs_bkg_df = pup.root2panda(\n",
    "    [os.path.join(SAMPLE_PATH, bkg) for bkg in higgs_bkg_files], TREE,\n",
    "    branches = bkg_vars\n",
    ")\n",
    "print [os.path.join(SAMPLE_PATH, bkg) for bkg in higgs_bkg_files]\n",
    "\n",
    "ttbar_bkg_df = pup.root2panda(\n",
    "    [os.path.join(SAMPLE_PATH, bkg) for bkg in ttbar_bkg_files], TREE,\n",
    "    branches = bkg_vars\n",
    ")\n",
    "print  [os.path.join(SAMPLE_PATH, bkg) for bkg in ttbar_bkg_files]"
   ]
  },
  {
   "cell_type": "code",
   "execution_count": 6,
   "metadata": {
    "collapsed": true
   },
   "outputs": [],
   "source": [
    "higgSiglh = higgs_signal_df['ME_Sig_Mod_Likelihoods']\n",
    "ttbarSiglh = ttbar_signal_df['ME_Sig_Mod_Likelihoods']\n",
    "higgBkglh = higgs_bkg_df['ME_Bkg_Mod_Likelihoods']\n",
    "ttbarBkglh = ttbar_bkg_df['ME_Bkg_Mod_Likelihoods']"
   ]
  },
  {
   "cell_type": "code",
   "execution_count": 8,
   "metadata": {},
   "outputs": [
    {
     "name": "stdout",
     "output_type": "stream",
     "text": [
      "('higgs signal: ', (2415679,))\n",
      "('ttbar signal: ', (1623092,))\n"
     ]
    }
   ],
   "source": [
    "print (\"higgs signal: \",np.shape(higgSiglh))\n",
    "print (\"ttbar signal: \",np.shape(ttbarSiglh))"
   ]
  },
  {
   "cell_type": "code",
   "execution_count": 9,
   "metadata": {},
   "outputs": [
    {
     "data": {
      "text/plain": [
       "(2415679,)"
      ]
     },
     "execution_count": 9,
     "metadata": {},
     "output_type": "execute_result"
    }
   ],
   "source": [
    "np.shape(higgSiglh)"
   ]
  },
  {
   "cell_type": "code",
   "execution_count": 10,
   "metadata": {},
   "outputs": [
    {
     "data": {
      "text/plain": [
       "4038771"
      ]
     },
     "execution_count": 10,
     "metadata": {},
     "output_type": "execute_result"
    }
   ],
   "source": [
    "2415679+1623092"
   ]
  },
  {
   "cell_type": "code",
   "execution_count": 12,
   "metadata": {
    "collapsed": true
   },
   "outputs": [],
   "source": [
    "signal_lh = np.array([a[0] for a in higgSiglh] + [a[0] for a in ttbarSiglh])\n",
    "bkg_lh = np.array([a[0] for a in higgBkglh] + [a[0] for a in ttbarBkglh])"
   ]
  },
  {
   "cell_type": "code",
   "execution_count": 14,
   "metadata": {},
   "outputs": [
    {
     "data": {
      "text/plain": [
       "(4038771,)"
      ]
     },
     "execution_count": 14,
     "metadata": {},
     "output_type": "execute_result"
    }
   ],
   "source": [
    "np.shape(signal_lh)"
   ]
  },
  {
   "cell_type": "code",
   "execution_count": 17,
   "metadata": {
    "collapsed": true
   },
   "outputs": [],
   "source": [
    "y_sig = np.array(([1] * higgs_signal_df.shape[0]) + ([0] * ttbar_signal_df.shape[0]))"
   ]
  },
  {
   "cell_type": "code",
   "execution_count": 19,
   "metadata": {},
   "outputs": [],
   "source": [
    "y_Bkg = np.array(([1] * higgs_bkg_df.shape[0]) + ([0] * ttbar_bkg_df.shape[0]))"
   ]
  },
  {
   "cell_type": "code",
   "execution_count": 20,
   "metadata": {},
   "outputs": [
    {
     "name": "stdout",
     "output_type": "stream",
     "text": [
      "('y_sig_truth: ', (4038771,))\n",
      "('y_bkg_truth: ', (4038771,))\n"
     ]
    }
   ],
   "source": [
    "print (\"y_sig_truth: \",np.shape(y_sig))\n",
    "print (\"y_bkg_truth: \",np.shape(y_Bkg))"
   ]
  },
  {
   "cell_type": "code",
   "execution_count": 21,
   "metadata": {
    "collapsed": true
   },
   "outputs": [],
   "source": [
    "softTarget = signal_lh/(signal_lh+(0.1*bkg_lh))"
   ]
  },
  {
   "cell_type": "code",
   "execution_count": 22,
   "metadata": {
    "collapsed": true
   },
   "outputs": [],
   "source": [
    "sigSoft= softTarget[np.where(y_sig==1)]\n",
    "bkgSoft = softTarget[np.where(y_sig==0)]"
   ]
  },
  {
   "cell_type": "code",
   "execution_count": 23,
   "metadata": {},
   "outputs": [
    {
     "data": {
      "image/png": "[encoded data removed]",
      "text/plain": [
       "<matplotlib.figure.Figure at 0x7f1494436fd0>"
      ]
     },
     "metadata": {},
     "output_type": "display_data"
    }
   ],
   "source": [
    "values_sig, bins_sig, _=plt.hist(sigSoft,bins=100, histtype='step', label='signal', normed = 1)\n",
    "                           \n",
    "values_bkg, bins_bkg, _=plt.hist(bkgSoft,bins=100, histtype='step', color= 'red', label='background', normed = 1)\n",
    "\n",
    "_=plt.yscale('log')\n",
    "\n",
    "_=plt.legend(loc='upper center')\n",
    "\n",
    "_=plt.title('Signal_LH_to_(Sig_LH+0.1*Bkg_LH)')\n",
    "\n",
    "bkgSum = np.sum(bkgSoft)\n",
    "\n",
    "sigSum = np.sum(sigSoft)\n",
    "\n",
    "marray = np.linspace(0,1,100)\n",
    "values_sig_n = values_sig/sigSum\n",
    "\n",
    "values_bkg_n = values_bkg/bkgSum"
   ]
  },
  {
   "cell_type": "code",
   "execution_count": 16,
   "metadata": {},
   "outputs": [
    {
     "data": {
      "image/png": "[encoded data removed]",
      "text/plain": [
       "<matplotlib.figure.Figure at 0x7ff0d025e190>"
      ]
     },
     "metadata": {},
     "output_type": "display_data"
    }
   ],
   "source": [
    "_= plt.hist(marray, histtype='step', bins=100, weights=values_sig_n)\n",
    "_=plt.yscale('log')"
   ]
  },
  {
   "cell_type": "code",
   "execution_count": 24,
   "metadata": {},
   "outputs": [
    {
     "data": {
      "image/png": "[encoded data removed]",
      "text/plain": [
       "<matplotlib.figure.Figure at 0x7f146b9b4590>"
      ]
     },
     "metadata": {},
     "output_type": "display_data"
    }
   ],
   "source": [
    "fpr_MEM, tpr_MEM, thresholds_MEM = roc_curve(y_sig,softTarget)\n",
    "plt.figure()\n",
    "##plt.plot(fpr, tpr)\n",
    "plt.plot(tpr_MEM, 1/fpr_MEM)\n",
    "plt.xlim([0.75, 1])\n",
    "plt.ylim([1, 10000])\n",
    "plt.ylabel('1/Bkg_eff')\n",
    "plt.xlabel('Sig_eff')\n",
    "plt.title('Receiver operating characteristic')\n",
    "plt.yscale('log')\n",
    "plt.show()"
   ]
  },
  {
   "cell_type": "code",
   "execution_count": 25,
   "metadata": {
    "collapsed": true
   },
   "outputs": [],
   "source": [
    "higgs_slice = np.logical_and(\n",
    "        higgs_signal_df['ME_Sig_Likelihoods_Available'] == True, \n",
    "        higgs_bkg_df['ME_Bkg_Likelihoods_Available'] == True\n",
    "        )\n",
    "ttbar_slice = np.logical_and(\n",
    "        ttbar_signal_df['ME_Sig_Likelihoods_Available'] == True, \n",
    "        ttbar_bkg_df['ME_Bkg_Likelihoods_Available'] == True\n",
    "        )"
   ]
  },
  {
   "cell_type": "code",
   "execution_count": 26,
   "metadata": {
    "collapsed": true
   },
   "outputs": [],
   "source": [
    "higgs_slice = np.logical_and(\n",
    "            higgs_slice, \n",
    "            np.array([(-1 not in event) for event in higgs_signal_df[\"ME_Sig_Obj_type\"]])\n",
    "            )\n",
    "ttbar_slice = np.logical_and(\n",
    "            ttbar_slice, \n",
    "            np.array([(-1 not in event) for event in ttbar_signal_df[\"ME_Sig_Obj_type\"]])\n",
    "            )"
   ]
  },
  {
   "cell_type": "code",
   "execution_count": 27,
   "metadata": {
    "collapsed": true
   },
   "outputs": [],
   "source": [
    "higgs_signal_df = higgs_signal_df[higgs_slice]\n",
    "ttbar_signal_df = ttbar_signal_df[ttbar_slice]\n",
    "higgs_bkg_df = higgs_bkg_df[higgs_slice]\n",
    "ttbar_bkg_df = ttbar_bkg_df[ttbar_slice]"
   ]
  },
  {
   "cell_type": "code",
   "execution_count": 28,
   "metadata": {},
   "outputs": [
    {
     "data": {
      "text/plain": [
       "(441957,)"
      ]
     },
     "execution_count": 28,
     "metadata": {},
     "output_type": "execute_result"
    }
   ],
   "source": [
    "np.shape(higgs_signal_df['ME_Sig_Mod_Likelihoods'])"
   ]
  },
  {
   "cell_type": "code",
   "execution_count": 29,
   "metadata": {
    "collapsed": true
   },
   "outputs": [],
   "source": [
    "rtbr = [n for n, ev in ttbar_signal_df.iterrows() if ev['ME_Sig_Obj_pt'][np.logical_or(\n",
    "            ev['ME_Sig_Obj_type'] == 11,\n",
    "            ev['ME_Sig_Obj_type'] == 13)] < 20]\n",
    "ttbar_signal_df.drop(rtbr, inplace=True)\n",
    "ttbar_bkg_df.drop(rtbr, inplace=True)"
   ]
  },
  {
   "cell_type": "code",
   "execution_count": 30,
   "metadata": {
    "collapsed": true
   },
   "outputs": [],
   "source": [
    "y_sig_cut = np.array(([1] * higgs_signal_df.shape[0]) + ([0] * ttbar_signal_df.shape[0]))"
   ]
  },
  {
   "cell_type": "code",
   "execution_count": 32,
   "metadata": {
    "collapsed": true
   },
   "outputs": [],
   "source": [
    "y_bkg_cut = np.array(([1] * higgs_bkg_df.shape[0]) + ([0] * ttbar_bkg_df.shape[0]))"
   ]
  },
  {
   "cell_type": "code",
   "execution_count": 33,
   "metadata": {},
   "outputs": [
    {
     "name": "stdout",
     "output_type": "stream",
     "text": [
      "('y_sig_cut:', (2064994,))\n",
      "('y_bkg_cut:', (2064994,))\n"
     ]
    }
   ],
   "source": [
    "print(\"y_sig_cut:\",np.shape(y_sig_cut))\n",
    "print(\"y_bkg_cut:\",np.shape(y_bkg_cut))"
   ]
  },
  {
   "cell_type": "code",
   "execution_count": 34,
   "metadata": {
    "collapsed": true
   },
   "outputs": [],
   "source": [
    "df = pd.concat([higgs_signal_df, ttbar_signal_df], ignore_index=True)"
   ]
  },
  {
   "cell_type": "code",
   "execution_count": 35,
   "metadata": {},
   "outputs": [
    {
     "name": "stdout",
     "output_type": "stream",
     "text": [
      "('df Shape:', (2064994, 7), Index([u'ME_Sig_Obj_pt', u'ME_Sig_Obj_eta', u'ME_Sig_Obj_phi', u'ME_Sig_Obj_E',\n",
      "       u'ME_Sig_Likelihoods_Available', u'ME_Sig_Mod_Likelihoods',\n",
      "       u'ME_Sig_Obj_type'],\n",
      "      dtype='object'))\n"
     ]
    }
   ],
   "source": [
    "print(\"df Shape:\", np.shape(df), df.keys())"
   ]
  },
  {
   "cell_type": "code",
   "execution_count": 36,
   "metadata": {},
   "outputs": [
    {
     "name": "stderr",
     "output_type": "stream",
     "text": [
      "100%|██████████| 2064994/2064994 [00:17<00:00, 114940.36it/s]\n"
     ]
    }
   ],
   "source": [
    " X = np.array([np.asarray(row.tolist())[:, 2:10].ravel() \n",
    "        for row in tqdm(df[['ME_Sig_Obj_pt', 'ME_Sig_Obj_eta', 'ME_Sig_Obj_phi', 'ME_Sig_Obj_E']].values)])"
   ]
  },
  {
   "cell_type": "code",
   "execution_count": 38,
   "metadata": {},
   "outputs": [
    {
     "name": "stdout",
     "output_type": "stream",
     "text": [
      "('Shape of X: ', (2064994, 32))\n"
     ]
    }
   ],
   "source": [
    "print(\"Shape of X: \",np.shape(X))"
   ]
  },
  {
   "cell_type": "code",
   "execution_count": 41,
   "metadata": {},
   "outputs": [
    {
     "name": "stdout",
     "output_type": "stream",
     "text": [
      "('shape of X_f: ', (2064994, 30))\n"
     ]
    }
   ],
   "source": [
    "\n",
    "X1 = X[:,0:15]\n",
    "X2 = X[:,16:31]\n",
    "X_f = np.concatenate((X1, X2),1)\n",
    "print(\"shape of X_f: \",np.shape(X_f))\n"
   ]
  },
  {
   "cell_type": "code",
   "execution_count": 40,
   "metadata": {},
   "outputs": [
    {
     "data": {
      "text/plain": [
       "array([ 2.62851349e+02,  1.91931992e+02,  4.64395180e+01,  7.87202530e+01,\n",
       "        4.57794304e+01,  3.65396919e+01,  6.21137085e+01,  3.53022575e+01,\n",
       "        9.12346721e-01,  3.53346854e-01, -3.45096916e-01,  1.42711461e+00,\n",
       "        3.46510530e-01,  1.02264404e+00,  2.86432475e-01, -1.88035667e+00,\n",
       "        1.37000525e+00,  1.41209114e+00,  9.82854486e-01,  5.93144238e-01,\n",
       "        3.00108814e+00, -2.73859501e+00, -1.16046488e+00,  3.80077955e+02,\n",
       "        2.04093039e+02,  4.94561910e+01,  1.73510355e+02,  4.85553979e+01,\n",
       "        5.73705991e+01,  6.46791919e+01])"
      ]
     },
     "execution_count": 40,
     "metadata": {},
     "output_type": "execute_result"
    }
   ],
   "source": [
    "X_f[0,:]"
   ]
  },
  {
   "cell_type": "code",
   "execution_count": 42,
   "metadata": {
    "collapsed": true
   },
   "outputs": [],
   "source": [
    "signal_lh = np.array([a[0] for a in higgs_signal_df['ME_Sig_Mod_Likelihoods']] + [a[0] for a in ttbar_signal_df['ME_Sig_Mod_Likelihoods']])\n",
    "bkg_lh = np.array([a[0] for a in higgs_bkg_df['ME_Bkg_Mod_Likelihoods']] + [a[0] for a in ttbar_bkg_df['ME_Bkg_Mod_Likelihoods']])"
   ]
  },
  {
   "cell_type": "code",
   "execution_count": 43,
   "metadata": {
    "collapsed": true
   },
   "outputs": [],
   "source": [
    "X_train, X_test, y_train, y_test,\\\n",
    "    bkg_lh_train, bkg_lh_test, signal_lh_train, signal_lh_test = train_test_split(\n",
    "            X_f, y_sig_cut, bkg_lh, signal_lh, train_size=0.75\n",
    "    )"
   ]
  },
  {
   "cell_type": "code",
   "execution_count": 32,
   "metadata": {},
   "outputs": [
    {
     "data": {
      "text/plain": [
       "(173580,)"
      ]
     },
     "execution_count": 32,
     "metadata": {},
     "output_type": "execute_result"
    }
   ],
   "source": [
    "np.shape(bkg_lh_test)"
   ]
  },
  {
   "cell_type": "code",
   "execution_count": 33,
   "metadata": {},
   "outputs": [
    {
     "data": {
      "text/plain": [
       "(173580,)"
      ]
     },
     "execution_count": 33,
     "metadata": {},
     "output_type": "execute_result"
    }
   ],
   "source": [
    "np.shape(signal_lh_test)"
   ]
  },
  {
   "cell_type": "code",
   "execution_count": 34,
   "metadata": {},
   "outputs": [
    {
     "data": {
      "text/plain": [
       "(173580,)"
      ]
     },
     "execution_count": 34,
     "metadata": {},
     "output_type": "execute_result"
    }
   ],
   "source": [
    "np.shape(y_test)"
   ]
  },
  {
   "cell_type": "code",
   "execution_count": 44,
   "metadata": {
    "collapsed": true
   },
   "outputs": [],
   "source": [
    "softTarget = signal_lh_test/(signal_lh_test+(0.1*bkg_lh_test))"
   ]
  },
  {
   "cell_type": "code",
   "execution_count": 45,
   "metadata": {
    "collapsed": true
   },
   "outputs": [],
   "source": [
    "sigSoft= softTarget[np.where(y_test==1)]\n",
    "bkgSoft = softTarget[np.where(y_test==0)]"
   ]
  },
  {
   "cell_type": "code",
   "execution_count": 46,
   "metadata": {},
   "outputs": [
    {
     "data": {
      "image/png": "[encoded data removed]",
      "text/plain": [
       "<matplotlib.figure.Figure at 0x7f146b9cc250>"
      ]
     },
     "metadata": {},
     "output_type": "display_data"
    }
   ],
   "source": [
    "_=plt.hist(sigSoft,bins=100, histtype='step', label='signal', normed = 1)\n",
    "                           \n",
    "_=plt.hist(bkgSoft,bins=100, histtype='step', color= 'red', label='background', normed = 1)\n",
    "\n",
    "_=plt.yscale('log')\n",
    "\n",
    "_=plt.legend(loc='upper center')\n",
    "\n",
    "_=plt.title('Signal_LH_to_(Sig_LH+0.1*Bkg_LH)')"
   ]
  },
  {
   "cell_type": "code",
   "execution_count": 47,
   "metadata": {},
   "outputs": [
    {
     "data": {
      "image/png": "[encoded data removed]",
      "text/plain": [
       "<matplotlib.figure.Figure at 0x7f12d997f850>"
      ]
     },
     "metadata": {},
     "output_type": "display_data"
    }
   ],
   "source": [
    "fpr_MEM, tpr_MEM, thresholds_MEM = roc_curve(y_test,softTarget)\n",
    "plt.figure()\n",
    "##plt.plot(fpr, tpr)\n",
    "plt.plot(tpr_MEM, 1/fpr_MEM)\n",
    "plt.xlim([0.75, 1])\n",
    "plt.ylim([1, 10000])\n",
    "plt.ylabel('1/Bkg_eff')\n",
    "plt.xlabel('Sig_eff')\n",
    "plt.title('Receiver operating characteristic')\n",
    "plt.yscale('log')\n",
    "plt.show()"
   ]
  },
  {
   "cell_type": "code",
   "execution_count": 48,
   "metadata": {
    "collapsed": true
   },
   "outputs": [],
   "source": [
    "sigTrain_ = {\n",
    "        'X' : X_train,\n",
    "        'y' : y_train,\n",
    "        'signal_lh' : signal_lh_train\n",
    "    }\n",
    "bkgTrain_ = {\n",
    "            'X' : X_train,\n",
    "            'y' : y_train,\n",
    "            'bkg_lh' : bkg_lh_train\n",
    "    }\n",
    "sigTest_ = {\n",
    "            'X' : X_test,\n",
    "            'y' : y_test,\n",
    "            'signal_lh' : signal_lh_test\n",
    "    }\n",
    "bkgTest_ = {\n",
    "            'X' : X_test,\n",
    "            'y' : y_test,\n",
    "            'bkg_lh' : bkg_lh_test\n",
    "    }"
   ]
  },
  {
   "cell_type": "code",
   "execution_count": 49,
   "metadata": {
    "collapsed": true
   },
   "outputs": [],
   "source": [
    "SAMPLE_PATH2 = os.path.join('/home/debo/debo_dark_mem')"
   ]
  },
  {
   "cell_type": "code",
   "execution_count": 50,
   "metadata": {
    "collapsed": true
   },
   "outputs": [],
   "source": [
    "io.save(os.path.join(SAMPLE_PATH2, 'MEM-A-db' + 'sig' + 'withPPP' + '.h5'), sigTrain_)"
   ]
  },
  {
   "cell_type": "code",
   "execution_count": 51,
   "metadata": {
    "collapsed": true
   },
   "outputs": [],
   "source": [
    "io.save(os.path.join(SAMPLE_PATH2, 'MEM-B-db' + 'sig' + 'withPPP' + '.h5'), sigTest_)"
   ]
  },
  {
   "cell_type": "code",
   "execution_count": 52,
   "metadata": {
    "collapsed": true
   },
   "outputs": [],
   "source": [
    "io.save(os.path.join(SAMPLE_PATH2, 'MEM-A-db' + 'bkg' + 'withPPP' + '.h5'), bkgTrain_)"
   ]
  },
  {
   "cell_type": "code",
   "execution_count": 53,
   "metadata": {
    "collapsed": true
   },
   "outputs": [],
   "source": [
    "io.save(os.path.join(SAMPLE_PATH2, 'MEM-B-db' + 'bkg' + 'withPPP' + '.h5'), bkgTest_)"
   ]
  },
  {
   "cell_type": "code",
   "execution_count": null,
   "metadata": {
    "collapsed": true
   },
   "outputs": [],
   "source": []
  }
 ],
 "metadata": {
  "kernelspec": {
   "display_name": "env2",
   "language": "python",
   "name": "env2"
  },
  "language_info": {
   "codemirror_mode": {
    "name": "ipython",
    "version": 2
   },
   "file_extension": ".py",
   "mimetype": "text/x-python",
   "name": "python",
   "nbconvert_exporter": "python",
   "pygments_lexer": "ipython2",
   "version": "2.7.12"
  }
 },
 "nbformat": 4,
 "nbformat_minor": 2
}
