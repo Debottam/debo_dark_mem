{
 "cells": [
  {
   "cell_type": "code",
   "execution_count": 6,
   "metadata": {},
   "outputs": [],
   "source": [
    "import math\n",
    "import numpy as np\n",
    "import h5py\n",
    "import matplotlib.pyplot as plt\n",
    "import scipy\n",
    "from scipy import ndimage\n",
    "import tensorflow as tf\n",
    "from tensorflow.python.framework import ops\n",
    "#from cnn_utils import *\n",
    "import os\n",
    "os.environ['CUDA_VISIBLE_DEVICES']='-1'\n",
    "import deepdish.io as io\n",
    "from keras.models import Sequential, Model\n",
    "from keras.layers import Input, Dense, Dropout, LeakyReLU\n",
    "from keras.wrappers.scikit_learn import KerasRegressor\n",
    "from sklearn.model_selection import cross_val_score, cross_val_predict, train_test_split\n",
    "from sklearn.model_selection import KFold\n",
    "from sklearn.preprocessing import StandardScaler, MinMaxScaler\n",
    "from sklearn.pipeline import Pipeline\n",
    "from sklearn.metrics import r2_score, mean_squared_error, mean_absolute_error\n",
    "from sklearn.metrics import roc_curve, auc\n",
    "from sklearn import metrics\n",
    "from itertools import izip\n",
    "import random"
   ]
  },
  {
   "cell_type": "code",
   "execution_count": 7,
   "metadata": {},
   "outputs": [
    {
     "data": {
      "text/plain": [
       "['y', 'X', 'signal_lh']"
      ]
     },
     "execution_count": 7,
     "metadata": {},
     "output_type": "execute_result"
    }
   ],
   "source": [
    "#Loading data\n",
    "data_sig_A = io.load(os.path.join('MEM-A-dbsig.h5'))\n",
    "data_sig_B = io.load(os.path.join('MEM-B-dbsig.h5'))\n",
    "#data_sig_C = io.load(os.path.join('MEM-C-0500_unscaled_signal.h5'))\n",
    "data_back_A = io.load(os.path.join('MEM-A-dbbkg.h5'))\n",
    "data_back_B = io.load(os.path.join('MEM-B-dbbkg.h5'))\n",
    "data_sig_B.keys()"
   ]
  },
  {
   "cell_type": "code",
   "execution_count": 8,
   "metadata": {},
   "outputs": [
    {
     "name": "stdout",
     "output_type": "stream",
     "text": [
      "(520739,)\n",
      "(173580,)\n",
      "1.0765009091544848e-22\n",
      "3.121791221788734e-48\n"
     ]
    }
   ],
   "source": [
    "#Assigning data\n",
    "X_Big_train = data_sig_A['X']\n",
    "target_BigSig_train = data_sig_A['signal_lh']\n",
    "y_BigSig_train = data_sig_A['y']\n",
    "\n",
    "X_Big_test = data_sig_B['X']\n",
    "target_BigSig_test = data_sig_B['signal_lh']\n",
    "y_BigSig_test = data_sig_B['y']\n",
    "\n",
    "target_BigBack_train = data_back_A['bkg_lh']\n",
    "y_BigBack_train = data_back_A['y']\n",
    "target_BigBack_test = data_back_B['bkg_lh']\n",
    "y_BigBack_test = data_back_B['y']\n",
    "\n",
    "sig_to_backRatio_train = target_BigSig_train/target_BigBack_train\n",
    "sig_to_backRatio_test = target_BigSig_test/target_BigBack_test\n",
    "\n",
    "softTarget_train= target_BigSig_train/(target_BigSig_train+(0.1*target_BigBack_train))\n",
    "softTarget_test = target_BigSig_test/(target_BigSig_test+(0.1*target_BigBack_test))\n",
    "\n",
    "print np.shape(sig_to_backRatio_train)\n",
    "print np.shape(sig_to_backRatio_test)\n",
    "print target_BigBack_test.max()\n",
    "print target_BigBack_test.min()"
   ]
  },
  {
   "cell_type": "code",
   "execution_count": 12,
   "metadata": {
    "collapsed": true
   },
   "outputs": [],
   "source": [
    "def sequential_model():\n",
    "    seqModel = Sequential()\n",
    "    seqModel.add(Dense(32, input_dim=32, kernel_initializer='glorot_normal', activation='relu'))\n",
    "    seqModel.add(Dense(12, kernel_initializer='glorot_normal', activation='relu'))\n",
    "    seqModel.add(Dense(1, kernel_initializer='glorot_normal', activation='sigmoid'))\n",
    "    seqModel.compile(loss='binary_crossentropy', optimizer='adam')\n",
    "    return seqModel"
   ]
  },
  {
   "cell_type": "code",
   "execution_count": 13,
   "metadata": {},
   "outputs": [
    {
     "name": "stdout",
     "output_type": "stream",
     "text": [
      "Epoch 1/20\n",
      " - 3s - loss: 0.1394\n",
      "Epoch 2/20\n",
      " - 3s - loss: 0.0770\n",
      "Epoch 3/20\n",
      " - 3s - loss: 0.0679\n",
      "Epoch 4/20\n",
      " - 3s - loss: 0.0612\n",
      "Epoch 5/20\n",
      " - 3s - loss: 0.0566\n",
      "Epoch 6/20\n",
      " - 3s - loss: 0.0534\n",
      "Epoch 7/20\n",
      " - 3s - loss: 0.0513\n",
      "Epoch 8/20\n",
      " - 3s - loss: 0.0497\n",
      "Epoch 9/20\n",
      " - 3s - loss: 0.0485\n",
      "Epoch 10/20\n",
      " - 3s - loss: 0.0474\n",
      "Epoch 11/20\n",
      " - 3s - loss: 0.0467\n",
      "Epoch 12/20\n",
      " - 3s - loss: 0.0459\n",
      "Epoch 13/20\n",
      " - 3s - loss: 0.0454\n",
      "Epoch 14/20\n",
      " - 3s - loss: 0.0449\n",
      "Epoch 15/20\n",
      " - 3s - loss: 0.0443\n",
      "Epoch 16/20\n",
      " - 3s - loss: 0.0440\n",
      "Epoch 17/20\n",
      " - 3s - loss: 0.0436\n",
      "Epoch 18/20\n",
      " - 3s - loss: 0.0432\n",
      "Epoch 19/20\n",
      " - 3s - loss: 0.0428\n",
      "Epoch 20/20\n",
      " - 3s - loss: 0.0426\n"
     ]
    },
    {
     "data": {
      "text/plain": [
       "<keras.callbacks.History at 0x7efccf24df90>"
      ]
     },
     "execution_count": 13,
     "metadata": {},
     "output_type": "execute_result"
    }
   ],
   "source": [
    "sc_X = StandardScaler()\n",
    "X_train1 = sc_X.fit_transform(X_Big_train)\n",
    "X_test1 = sc_X.fit_transform(X_Big_test)\n",
    "#X_train1 = tf.keras.utils.normalize(X_Big_train)\n",
    "#X_test1 = tf.keras.utils.normalize(X_Big_test)\n",
    "#np.shape(y_BigSig_train)\n",
    "model= sequential_model()\n",
    "#model.add(tf.keras.layers.Flatten())\n",
    "model.fit(X_train1,y_BigSig_train, epochs=20, batch_size=256, verbose=2)"
   ]
  },
  {
   "cell_type": "code",
   "execution_count": null,
   "metadata": {
    "collapsed": true
   },
   "outputs": [],
   "source": []
  }
 ],
 "metadata": {
  "kernelspec": {
   "display_name": "env4",
   "language": "python",
   "name": "env4"
  },
  "language_info": {
   "codemirror_mode": {
    "name": "ipython",
    "version": 2
   },
   "file_extension": ".py",
   "mimetype": "text/x-python",
   "name": "python",
   "nbconvert_exporter": "python",
   "pygments_lexer": "ipython2",
   "version": "2.7.12"
  }
 },
 "nbformat": 4,
 "nbformat_minor": 2
}
